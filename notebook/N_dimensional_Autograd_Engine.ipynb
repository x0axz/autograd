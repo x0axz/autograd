{
  "nbformat": 4,
  "nbformat_minor": 0,
  "metadata": {
    "colab": {
      "provenance": []
    },
    "kernelspec": {
      "name": "python3",
      "display_name": "Python 3"
    },
    "language_info": {
      "name": "python"
    }
  },
  "cells": [
    {
      "cell_type": "code",
      "source": [
        "import numpy as np\n",
        "\n",
        "class Value:\n",
        "  \n",
        "  def __init__(self, data, _children=(), _op='', label=''):\n",
        "    # Convert data to a NumPy array\n",
        "    if isinstance(data, np.ndarray):\n",
        "      self.data = data\n",
        "    else:\n",
        "      self.data = np.array(data)\n",
        "      \n",
        "    # Initialize the gradient as an array of zeros with the same shape as the data\n",
        "    self.grad = np.zeros_like(self.data)\n",
        "    \n",
        "    # Placeholder for the backward function\n",
        "    self._backward = lambda: None\n",
        "    \n",
        "    # Set of previous nodes (parents)\n",
        "    self._prev = set(_children)\n",
        "    \n",
        "    # Operation associated with the current node\n",
        "    self._op = _op\n",
        "    \n",
        "    # Optional label for the node\n",
        "    self.label = label\n",
        "\n",
        "  \n",
        "  def __add__(self, other):\n",
        "    # Convert other to a Value if it is not already\n",
        "    other = other if isinstance(other, Value) else Value(other)\n",
        "    \n",
        "    # Create a new Value instance representing the addition operation\n",
        "    out = Value(self.data + other.data, (self, other), '+')\n",
        "\n",
        "    def _backward():\n",
        "      # Calculate the gradients using the chain rule and update the gradients of the operands\n",
        "      self.grad = self.grad + np.multiply(1.0, out.grad)\n",
        "      other.grad = other.grad + np.multiply(1.0, out.grad)\n",
        "\n",
        "    # Assign the backward function to the new Value instance\n",
        "    out._backward = _backward\n",
        "    return out\n",
        "\n",
        "\n",
        "  def __mul__(self, other):\n",
        "    # Convert other to a Value if it is not already\n",
        "    other = other if isinstance(other, Value) else Value(other)\n",
        "    \n",
        "    # Create a new Value instance representing the multiplication operation\n",
        "    out = Value(self.data * other.data, (self, other), '*')\n",
        "\n",
        "    def _backward():\n",
        "      # Calculate the gradients using the chain rule and update the gradients of the operands\n",
        "      self.grad = self.grad + np.multiply(other.data, out.grad)\n",
        "      other.grad = other.grad + np.multiply(self.data, out.grad)\n",
        "\n",
        "    # Assign the backward function to the new Value instance\n",
        "    out._backward = _backward\n",
        "    return out\n",
        "\n",
        "\n",
        "  def __pow__(self, other):\n",
        "    if isinstance(other, (int, float)):\n",
        "      # If the exponent is a scalar, perform element-wise power operation\n",
        "      out_data = np.power(self.data, other)\n",
        "      out = Value(out_data, (self,), f'**{other}')\n",
        "\n",
        "      def _backward():\n",
        "        # Calculate the gradients using the chain rule and update the gradients of the operand\n",
        "        self.grad += other * np.power(self.data, other - 1) * out.grad\n",
        "\n",
        "      out._backward = _backward\n",
        "      return out\n",
        "    elif isinstance(other, Value):\n",
        "      # If the exponent is a Value instance, perform element-wise power operation\n",
        "      out_data = np.power(self.data, other.data)\n",
        "      out = Value(out_data, (self, other), f'**')\n",
        "\n",
        "      def _backward():\n",
        "        # Calculate the gradients using the chain rule and update the gradients of the operands\n",
        "        self.grad += other.data * np.power(self.data, other.data - 1) * out.grad\n",
        "        other.grad += np.log(self.data) * out.grad\n",
        "\n",
        "      out._backward = _backward\n",
        "      return out\n",
        "    else:\n",
        "      raise TypeError(\"Unsupported operand type(s) for **: 'Value' and '{}'\".format(type(other).__name__))\n",
        "\n",
        "  def __radd__(self, other):\n",
        "    # Perform right addition by a scalar or Value instance\n",
        "    return self + other\n",
        "\n",
        "  def __rmul__(self, other):\n",
        "    # Perform right multiplication by a scalar or Value instance\n",
        "    return self * other\n",
        "\n",
        "\n",
        "  def __truediv__(self, other):\n",
        "    # Perform true division by a scalar or Value instance\n",
        "    return self * other**-1\n",
        "\n",
        "\n",
        "  def __neg__(self):\n",
        "    # Perform negation of the Value instance\n",
        "    return self * -1\n",
        "\n",
        "\n",
        "  def __sub__(self, other):\n",
        "    # Perform subtraction of a Value instance\n",
        "    return self + (-other)\n",
        "\n",
        "\n",
        "  def exp(self):\n",
        "    # Compute the element-wise exponential of the Value instance\n",
        "    x = self.data\n",
        "    out = Value(np.exp(x), (self, ), 'exp')\n",
        "\n",
        "    def _backward():\n",
        "        # Calculate the gradients using the chain rule\n",
        "        self.grad += out.data * out.grad\n",
        "\n",
        "    # Assign the backward function to the new Value instance\n",
        "    out._backward = _backward\n",
        "    return out\n",
        "\n",
        "\n",
        "  def tanh(self):\n",
        "    # Compute the element-wise hyperbolic tangent of the Value instance\n",
        "    x = self.data\n",
        "    t = np.tanh(x)\n",
        "    out = Value(t, (self, ), 'tanh')\n",
        "\n",
        "    def _backward():\n",
        "        # Calculate the gradients using the chain rule\n",
        "        self.grad += (1 - t**2) * out.grad\n",
        "\n",
        "    # Assign the backward function to the new Value instance\n",
        "    out._backward = _backward\n",
        "    return out\n",
        "\n",
        "\n",
        "  def backward(self):\n",
        "    # Perform backpropagation to compute gradients\n",
        "    topo = []\n",
        "    visited = set()\n",
        "\n",
        "    def build_topo(v):\n",
        "        if v not in visited:\n",
        "            visited.add(v)\n",
        "            for child in v._prev:\n",
        "                build_topo(child)\n",
        "            topo.append(v)\n",
        "\n",
        "    # Build the topological order of nodes\n",
        "    build_topo(self)\n",
        "\n",
        "    # Set the gradient of the output to ones (assuming scalar loss)\n",
        "    self.grad = np.ones_like(self.data)\n",
        "\n",
        "    # Perform backward pass through the nodes in reverse topological order\n",
        "    for node in reversed(topo):\n",
        "        node._backward()\n",
        "\n",
        "\n",
        "  def __repr__(self):\n",
        "    # String representation of the Value instance\n",
        "    return f\"Value(data={self.data})\""
      ],
      "metadata": {
        "id": "V1WaNmBccejW"
      },
      "execution_count": 1,
      "outputs": []
    },
    {
      "cell_type": "code",
      "source": [
        "from graphviz import Digraph\n",
        "\n",
        "def trace(root):\n",
        "    # Initialize empty sets for nodes and edges\n",
        "    nodes, edges = set(), set()\n",
        "\n",
        "    # Recursive function to build the set of nodes and edges\n",
        "    def build(v):\n",
        "        # If the current node is not in the set of nodes\n",
        "        if v not in nodes:\n",
        "            # Add the current node to the set of nodes\n",
        "            nodes.add(v)\n",
        "            \n",
        "            # Iterate over the previous nodes (parents) of the current node\n",
        "            for child in v._prev:\n",
        "                # Add an edge from the previous node to the current node\n",
        "                edges.add((child, v))\n",
        "                \n",
        "                # Recursively call build() on the previous node\n",
        "                build(child)\n",
        "\n",
        "    # Start building the set of nodes and edges from the root node\n",
        "    build(root)\n",
        "\n",
        "    # Return the set of nodes and edges\n",
        "    return nodes, edges\n",
        "\n",
        "def draw_dot(root):\n",
        "    # Create a Digraph object with SVG format and set the graph attribute 'rankdir' to 'LR'\n",
        "    dot = Digraph(format='svg', graph_attr={'rankdir': 'LR'})\n",
        "\n",
        "    # Retrieve the nodes and edges from the root\n",
        "    nodes, edges = trace(root)\n",
        "\n",
        "    # Iterate over the nodes\n",
        "    for n in nodes:\n",
        "        uid = str(id(n))\n",
        "        # Convert the data array to a string representation\n",
        "        data_str = np.array2string(n.data, precision=4, separator=',', suppress_small=True)\n",
        "        # Convert the gradient array to a string representation\n",
        "        grad_str = np.array2string(n.grad, precision=4, separator=',', suppress_small=True)\n",
        "        # Create the label for the node using the node's label, data, and gradient strings\n",
        "        label = \"{ %s | data %s | grad %s }\" % (n.label, data_str, grad_str)\n",
        "        # Add a node to the graph with a unique ID, label, and shape 'record'\n",
        "        dot.node(name=uid, label=label, shape='record')\n",
        "        \n",
        "        # If the node has an operation associated with it\n",
        "        if n._op:\n",
        "            # Add a node to the graph with a unique ID based on the node's ID and operation, and label it with the operation\n",
        "            dot.node(name=uid + n._op, label=n._op)\n",
        "            # Add an edge from the operation node to the current node\n",
        "            dot.edge(uid + n._op, uid)\n",
        "\n",
        "    # Iterate over the edges\n",
        "    for n1, n2 in edges:\n",
        "        # Add an edge from the first node's ID to the second node's ID concatenated with the operation name\n",
        "        dot.edge(str(id(n1)), str(id(n2)) + n2._op)\n",
        "\n",
        "    # Return the generated graph\n",
        "    return dot"
      ],
      "metadata": {
        "id": "fd168_ch2LSO"
      },
      "execution_count": 2,
      "outputs": []
    },
    {
      "cell_type": "code",
      "source": [
        "# constructing and visualizing the computation graph for a simple neural network forward pass\n",
        "\n",
        "# inputs x1, x2\n",
        "x1 = Value([2.0, 2.0], label=\"x1\")\n",
        "x2 = Value([0.0, 0.0], label=\"x2\")\n",
        "\n",
        "# weights w1, w2\n",
        "w1 = Value([-3.0, -3.0], label=\"w1\")\n",
        "w2 = Value([1.0, 1.0], label=\"w2\")\n",
        "\n",
        "# bias of the neurons\n",
        "b = Value([6.8813735870195432, 6.8813735870195432], label=\"b\")\n",
        "\n",
        "# x1*w1 + x2*w2 + b\n",
        "x1w1 = x1*w1; x1w1.label = 'x1*w1'\n",
        "x2w2 = x2*w2; x2w2.label = 'x2*w2'\n",
        "x1w1x2w2 = x1w1 + x2w2; x1w1x2w2.label = 'x1w1 + x2w2'\n",
        "n = x1w1x2w2 + b; n.label = 'n'\n",
        "\n",
        "# apply the hyperbolic tangent function to n\n",
        "o = n.tanh(); o.label = 'o'\n",
        "\n",
        "# visualize the computation graph\n",
        "draw_dot(o)"
      ],
      "metadata": {
        "colab": {
          "base_uri": "https://localhost:8080/",
          "height": 321
        },
        "id": "A4-4na2ILMAh",
        "outputId": "796d0035-6cb7-4953-812e-d641d3e5e71a"
      },
      "execution_count": 3,
      "outputs": [
        {
          "output_type": "execute_result",
          "data": {
            "image/svg+xml": "<?xml version=\"1.0\" encoding=\"UTF-8\" standalone=\"no\"?>\n<!DOCTYPE svg PUBLIC \"-//W3C//DTD SVG 1.1//EN\"\n \"http://www.w3.org/Graphics/SVG/1.1/DTD/svg11.dtd\">\n<!-- Generated by graphviz version 2.43.0 (0)\n -->\n<!-- Title: %3 Pages: 1 -->\n<svg width=\"1646pt\" height=\"210pt\"\n viewBox=\"0.00 0.00 1646.00 210.00\" xmlns=\"http://www.w3.org/2000/svg\" xmlns:xlink=\"http://www.w3.org/1999/xlink\">\n<g id=\"graph0\" class=\"graph\" transform=\"scale(1 1) rotate(0) translate(4 206)\">\n<title>%3</title>\n<polygon fill=\"white\" stroke=\"transparent\" points=\"-4,4 -4,-206 1642,-206 1642,4 -4,4\"/>\n<!-- 140089198203456 -->\n<g id=\"node1\" class=\"node\">\n<title>140089198203456</title>\n<polygon fill=\"none\" stroke=\"black\" points=\"327.5,-55.5 327.5,-91.5 535.5,-91.5 535.5,-55.5 327.5,-55.5\"/>\n<text text-anchor=\"middle\" x=\"354\" y=\"-69.8\" font-family=\"Times,serif\" font-size=\"14.00\">x2*w2</text>\n<polyline fill=\"none\" stroke=\"black\" points=\"380.5,-55.5 380.5,-91.5 \"/>\n<text text-anchor=\"middle\" x=\"419\" y=\"-69.8\" font-family=\"Times,serif\" font-size=\"14.00\">data [0.,0.]</text>\n<polyline fill=\"none\" stroke=\"black\" points=\"457.5,-55.5 457.5,-91.5 \"/>\n<text text-anchor=\"middle\" x=\"496.5\" y=\"-69.8\" font-family=\"Times,serif\" font-size=\"14.00\">grad [0.,0.]</text>\n</g>\n<!-- 140089198208400+ -->\n<g id=\"node13\" class=\"node\">\n<title>140089198208400+</title>\n<ellipse fill=\"none\" stroke=\"black\" cx=\"603\" cy=\"-100.5\" rx=\"27\" ry=\"18\"/>\n<text text-anchor=\"middle\" x=\"603\" y=\"-96.8\" font-family=\"Times,serif\" font-size=\"14.00\">+</text>\n</g>\n<!-- 140089198203456&#45;&gt;140089198208400+ -->\n<g id=\"edge7\" class=\"edge\">\n<title>140089198203456&#45;&gt;140089198208400+</title>\n<path fill=\"none\" stroke=\"black\" d=\"M535.98,-89.98C546.9,-91.72 557.38,-93.39 566.65,-94.87\"/>\n<polygon fill=\"black\" stroke=\"black\" points=\"566.13,-98.33 576.56,-96.45 567.23,-91.42 566.13,-98.33\"/>\n</g>\n<!-- 140089198203456* -->\n<g id=\"node2\" class=\"node\">\n<title>140089198203456*</title>\n<ellipse fill=\"none\" stroke=\"black\" cx=\"260\" cy=\"-73.5\" rx=\"27\" ry=\"18\"/>\n<text text-anchor=\"middle\" x=\"260\" y=\"-69.8\" font-family=\"Times,serif\" font-size=\"14.00\">*</text>\n</g>\n<!-- 140089198203456*&#45;&gt;140089198203456 -->\n<g id=\"edge1\" class=\"edge\">\n<title>140089198203456*&#45;&gt;140089198203456</title>\n<path fill=\"none\" stroke=\"black\" d=\"M287.11,-73.5C295.79,-73.5 306.07,-73.5 317.08,-73.5\"/>\n<polygon fill=\"black\" stroke=\"black\" points=\"317.38,-77 327.38,-73.5 317.38,-70 317.38,-77\"/>\n</g>\n<!-- 140089198205616 -->\n<g id=\"node3\" class=\"node\">\n<title>140089198205616</title>\n<polygon fill=\"none\" stroke=\"black\" points=\"323,-110.5 323,-146.5 540,-146.5 540,-110.5 323,-110.5\"/>\n<text text-anchor=\"middle\" x=\"349.5\" y=\"-124.8\" font-family=\"Times,serif\" font-size=\"14.00\">x1*w1</text>\n<polyline fill=\"none\" stroke=\"black\" points=\"376,-110.5 376,-146.5 \"/>\n<text text-anchor=\"middle\" x=\"419\" y=\"-124.8\" font-family=\"Times,serif\" font-size=\"14.00\">data [&#45;6.,&#45;6.]</text>\n<polyline fill=\"none\" stroke=\"black\" points=\"462,-110.5 462,-146.5 \"/>\n<text text-anchor=\"middle\" x=\"501\" y=\"-124.8\" font-family=\"Times,serif\" font-size=\"14.00\">grad [0.,0.]</text>\n</g>\n<!-- 140089198205616&#45;&gt;140089198208400+ -->\n<g id=\"edge6\" class=\"edge\">\n<title>140089198205616&#45;&gt;140089198208400+</title>\n<path fill=\"none\" stroke=\"black\" d=\"M540.33,-110.69C549.68,-109.14 558.63,-107.67 566.66,-106.34\"/>\n<polygon fill=\"black\" stroke=\"black\" points=\"567.36,-109.77 576.66,-104.69 566.22,-102.86 567.36,-109.77\"/>\n</g>\n<!-- 140089198205616* -->\n<g id=\"node4\" class=\"node\">\n<title>140089198205616*</title>\n<ellipse fill=\"none\" stroke=\"black\" cx=\"260\" cy=\"-128.5\" rx=\"27\" ry=\"18\"/>\n<text text-anchor=\"middle\" x=\"260\" y=\"-124.8\" font-family=\"Times,serif\" font-size=\"14.00\">*</text>\n</g>\n<!-- 140089198205616*&#45;&gt;140089198205616 -->\n<g id=\"edge2\" class=\"edge\">\n<title>140089198205616*&#45;&gt;140089198205616</title>\n<path fill=\"none\" stroke=\"black\" d=\"M287.11,-128.5C294.55,-128.5 303.16,-128.5 312.4,-128.5\"/>\n<polygon fill=\"black\" stroke=\"black\" points=\"312.66,-132 322.66,-128.5 312.66,-125 312.66,-132\"/>\n</g>\n<!-- 140089198207680 -->\n<g id=\"node5\" class=\"node\">\n<title>140089198207680</title>\n<polygon fill=\"none\" stroke=\"black\" points=\"1406,-109.5 1406,-145.5 1638,-145.5 1638,-109.5 1406,-109.5\"/>\n<text text-anchor=\"middle\" x=\"1417.5\" y=\"-123.8\" font-family=\"Times,serif\" font-size=\"14.00\">o</text>\n<polyline fill=\"none\" stroke=\"black\" points=\"1429,-109.5 1429,-145.5 \"/>\n<text text-anchor=\"middle\" x=\"1494.5\" y=\"-123.8\" font-family=\"Times,serif\" font-size=\"14.00\">data [0.7071,0.7071]</text>\n<polyline fill=\"none\" stroke=\"black\" points=\"1560,-109.5 1560,-145.5 \"/>\n<text text-anchor=\"middle\" x=\"1599\" y=\"-123.8\" font-family=\"Times,serif\" font-size=\"14.00\">grad [0.,0.]</text>\n</g>\n<!-- 140089198207680tanh -->\n<g id=\"node6\" class=\"node\">\n<title>140089198207680tanh</title>\n<ellipse fill=\"none\" stroke=\"black\" cx=\"1343\" cy=\"-127.5\" rx=\"27\" ry=\"18\"/>\n<text text-anchor=\"middle\" x=\"1343\" y=\"-123.8\" font-family=\"Times,serif\" font-size=\"14.00\">tanh</text>\n</g>\n<!-- 140089198207680tanh&#45;&gt;140089198207680 -->\n<g id=\"edge3\" class=\"edge\">\n<title>140089198207680tanh&#45;&gt;140089198207680</title>\n<path fill=\"none\" stroke=\"black\" d=\"M1370.12,-127.5C1377.53,-127.5 1386.14,-127.5 1395.4,-127.5\"/>\n<polygon fill=\"black\" stroke=\"black\" points=\"1395.69,-131 1405.69,-127.5 1395.69,-124 1395.69,-131\"/>\n</g>\n<!-- 140089197849824 -->\n<g id=\"node7\" class=\"node\">\n<title>140089197849824</title>\n<polygon fill=\"none\" stroke=\"black\" points=\"6,-165.5 6,-201.5 191,-201.5 191,-165.5 6,-165.5\"/>\n<text text-anchor=\"middle\" x=\"21\" y=\"-179.8\" font-family=\"Times,serif\" font-size=\"14.00\">x1</text>\n<polyline fill=\"none\" stroke=\"black\" points=\"36,-165.5 36,-201.5 \"/>\n<text text-anchor=\"middle\" x=\"74.5\" y=\"-179.8\" font-family=\"Times,serif\" font-size=\"14.00\">data [2.,2.]</text>\n<polyline fill=\"none\" stroke=\"black\" points=\"113,-165.5 113,-201.5 \"/>\n<text text-anchor=\"middle\" x=\"152\" y=\"-179.8\" font-family=\"Times,serif\" font-size=\"14.00\">grad [0.,0.]</text>\n</g>\n<!-- 140089197849824&#45;&gt;140089198205616* -->\n<g id=\"edge9\" class=\"edge\">\n<title>140089197849824&#45;&gt;140089198205616*</title>\n<path fill=\"none\" stroke=\"black\" d=\"M169.68,-165.47C178.94,-162.68 188.25,-159.67 197,-156.5 207.52,-152.69 218.74,-147.87 228.71,-143.3\"/>\n<polygon fill=\"black\" stroke=\"black\" points=\"230.24,-146.45 237.82,-139.05 227.27,-140.11 230.24,-146.45\"/>\n</g>\n<!-- 140089197853952 -->\n<g id=\"node8\" class=\"node\">\n<title>140089197853952</title>\n<polygon fill=\"none\" stroke=\"black\" points=\"0,-110.5 0,-146.5 197,-146.5 197,-110.5 0,-110.5\"/>\n<text text-anchor=\"middle\" x=\"16.5\" y=\"-124.8\" font-family=\"Times,serif\" font-size=\"14.00\">w1</text>\n<polyline fill=\"none\" stroke=\"black\" points=\"33,-110.5 33,-146.5 \"/>\n<text text-anchor=\"middle\" x=\"76\" y=\"-124.8\" font-family=\"Times,serif\" font-size=\"14.00\">data [&#45;3.,&#45;3.]</text>\n<polyline fill=\"none\" stroke=\"black\" points=\"119,-110.5 119,-146.5 \"/>\n<text text-anchor=\"middle\" x=\"158\" y=\"-124.8\" font-family=\"Times,serif\" font-size=\"14.00\">grad [0.,0.]</text>\n</g>\n<!-- 140089197853952&#45;&gt;140089198205616* -->\n<g id=\"edge12\" class=\"edge\">\n<title>140089197853952&#45;&gt;140089198205616*</title>\n<path fill=\"none\" stroke=\"black\" d=\"M197.33,-128.5C206.29,-128.5 214.92,-128.5 222.75,-128.5\"/>\n<polygon fill=\"black\" stroke=\"black\" points=\"222.88,-132 232.88,-128.5 222.88,-125 222.88,-132\"/>\n</g>\n<!-- 140089198208304 -->\n<g id=\"node9\" class=\"node\">\n<title>140089198208304</title>\n<polygon fill=\"none\" stroke=\"black\" points=\"1048,-109.5 1048,-145.5 1280,-145.5 1280,-109.5 1048,-109.5\"/>\n<text text-anchor=\"middle\" x=\"1059.5\" y=\"-123.8\" font-family=\"Times,serif\" font-size=\"14.00\">n</text>\n<polyline fill=\"none\" stroke=\"black\" points=\"1071,-109.5 1071,-145.5 \"/>\n<text text-anchor=\"middle\" x=\"1136.5\" y=\"-123.8\" font-family=\"Times,serif\" font-size=\"14.00\">data [0.8814,0.8814]</text>\n<polyline fill=\"none\" stroke=\"black\" points=\"1202,-109.5 1202,-145.5 \"/>\n<text text-anchor=\"middle\" x=\"1241\" y=\"-123.8\" font-family=\"Times,serif\" font-size=\"14.00\">grad [0.,0.]</text>\n</g>\n<!-- 140089198208304&#45;&gt;140089198207680tanh -->\n<g id=\"edge8\" class=\"edge\">\n<title>140089198208304&#45;&gt;140089198207680tanh</title>\n<path fill=\"none\" stroke=\"black\" d=\"M1280.09,-127.5C1289.17,-127.5 1297.84,-127.5 1305.66,-127.5\"/>\n<polygon fill=\"black\" stroke=\"black\" points=\"1305.76,-131 1315.76,-127.5 1305.76,-124 1305.76,-131\"/>\n</g>\n<!-- 140089198208304+ -->\n<g id=\"node10\" class=\"node\">\n<title>140089198208304+</title>\n<ellipse fill=\"none\" stroke=\"black\" cx=\"985\" cy=\"-127.5\" rx=\"27\" ry=\"18\"/>\n<text text-anchor=\"middle\" x=\"985\" y=\"-123.8\" font-family=\"Times,serif\" font-size=\"14.00\">+</text>\n</g>\n<!-- 140089198208304+&#45;&gt;140089198208304 -->\n<g id=\"edge4\" class=\"edge\">\n<title>140089198208304+&#45;&gt;140089198208304</title>\n<path fill=\"none\" stroke=\"black\" d=\"M1012.12,-127.5C1019.53,-127.5 1028.14,-127.5 1037.4,-127.5\"/>\n<polygon fill=\"black\" stroke=\"black\" points=\"1037.69,-131 1047.69,-127.5 1037.69,-124 1037.69,-131\"/>\n</g>\n<!-- 140089197849920 -->\n<g id=\"node11\" class=\"node\">\n<title>140089197849920</title>\n<polygon fill=\"none\" stroke=\"black\" points=\"6,-55.5 6,-91.5 191,-91.5 191,-55.5 6,-55.5\"/>\n<text text-anchor=\"middle\" x=\"21\" y=\"-69.8\" font-family=\"Times,serif\" font-size=\"14.00\">x2</text>\n<polyline fill=\"none\" stroke=\"black\" points=\"36,-55.5 36,-91.5 \"/>\n<text text-anchor=\"middle\" x=\"74.5\" y=\"-69.8\" font-family=\"Times,serif\" font-size=\"14.00\">data [0.,0.]</text>\n<polyline fill=\"none\" stroke=\"black\" points=\"113,-55.5 113,-91.5 \"/>\n<text text-anchor=\"middle\" x=\"152\" y=\"-69.8\" font-family=\"Times,serif\" font-size=\"14.00\">grad [0.,0.]</text>\n</g>\n<!-- 140089197849920&#45;&gt;140089198203456* -->\n<g id=\"edge13\" class=\"edge\">\n<title>140089197849920&#45;&gt;140089198203456*</title>\n<path fill=\"none\" stroke=\"black\" d=\"M191.36,-73.5C202.43,-73.5 213.18,-73.5 222.73,-73.5\"/>\n<polygon fill=\"black\" stroke=\"black\" points=\"222.96,-77 232.96,-73.5 222.96,-70 222.96,-77\"/>\n</g>\n<!-- 140089198208400 -->\n<g id=\"node12\" class=\"node\">\n<title>140089198208400</title>\n<polygon fill=\"none\" stroke=\"black\" points=\"666,-82.5 666,-118.5 922,-118.5 922,-82.5 666,-82.5\"/>\n<text text-anchor=\"middle\" x=\"712\" y=\"-96.8\" font-family=\"Times,serif\" font-size=\"14.00\">x1w1 + x2w2</text>\n<polyline fill=\"none\" stroke=\"black\" points=\"758,-82.5 758,-118.5 \"/>\n<text text-anchor=\"middle\" x=\"801\" y=\"-96.8\" font-family=\"Times,serif\" font-size=\"14.00\">data [&#45;6.,&#45;6.]</text>\n<polyline fill=\"none\" stroke=\"black\" points=\"844,-82.5 844,-118.5 \"/>\n<text text-anchor=\"middle\" x=\"883\" y=\"-96.8\" font-family=\"Times,serif\" font-size=\"14.00\">grad [0.,0.]</text>\n</g>\n<!-- 140089198208400&#45;&gt;140089198208304+ -->\n<g id=\"edge10\" class=\"edge\">\n<title>140089198208400&#45;&gt;140089198208304+</title>\n<path fill=\"none\" stroke=\"black\" d=\"M921.07,-118.51C930.87,-119.91 940.17,-121.24 948.46,-122.42\"/>\n<polygon fill=\"black\" stroke=\"black\" points=\"947.98,-125.89 958.38,-123.84 948.97,-118.96 947.98,-125.89\"/>\n</g>\n<!-- 140089198208400+&#45;&gt;140089198208400 -->\n<g id=\"edge5\" class=\"edge\">\n<title>140089198208400+&#45;&gt;140089198208400</title>\n<path fill=\"none\" stroke=\"black\" d=\"M630.28,-100.5C637.73,-100.5 646.4,-100.5 655.77,-100.5\"/>\n<polygon fill=\"black\" stroke=\"black\" points=\"655.78,-104 665.78,-100.5 655.78,-97 655.78,-104\"/>\n</g>\n<!-- 140089197850016 -->\n<g id=\"node14\" class=\"node\">\n<title>140089197850016</title>\n<polygon fill=\"none\" stroke=\"black\" points=\"678,-137.5 678,-173.5 910,-173.5 910,-137.5 678,-137.5\"/>\n<text text-anchor=\"middle\" x=\"689.5\" y=\"-151.8\" font-family=\"Times,serif\" font-size=\"14.00\">b</text>\n<polyline fill=\"none\" stroke=\"black\" points=\"701,-137.5 701,-173.5 \"/>\n<text text-anchor=\"middle\" x=\"766.5\" y=\"-151.8\" font-family=\"Times,serif\" font-size=\"14.00\">data [6.8814,6.8814]</text>\n<polyline fill=\"none\" stroke=\"black\" points=\"832,-137.5 832,-173.5 \"/>\n<text text-anchor=\"middle\" x=\"871\" y=\"-151.8\" font-family=\"Times,serif\" font-size=\"14.00\">grad [0.,0.]</text>\n</g>\n<!-- 140089197850016&#45;&gt;140089198208304+ -->\n<g id=\"edge11\" class=\"edge\">\n<title>140089197850016&#45;&gt;140089198208304+</title>\n<path fill=\"none\" stroke=\"black\" d=\"M910.12,-138.45C923.9,-136.4 937.07,-134.45 948.37,-132.78\"/>\n<polygon fill=\"black\" stroke=\"black\" points=\"949.22,-136.19 958.59,-131.26 948.19,-129.27 949.22,-136.19\"/>\n</g>\n<!-- 140089197854144 -->\n<g id=\"node15\" class=\"node\">\n<title>140089197854144</title>\n<polygon fill=\"none\" stroke=\"black\" points=\"4.5,-0.5 4.5,-36.5 192.5,-36.5 192.5,-0.5 4.5,-0.5\"/>\n<text text-anchor=\"middle\" x=\"21\" y=\"-14.8\" font-family=\"Times,serif\" font-size=\"14.00\">w2</text>\n<polyline fill=\"none\" stroke=\"black\" points=\"37.5,-0.5 37.5,-36.5 \"/>\n<text text-anchor=\"middle\" x=\"76\" y=\"-14.8\" font-family=\"Times,serif\" font-size=\"14.00\">data [1.,1.]</text>\n<polyline fill=\"none\" stroke=\"black\" points=\"114.5,-0.5 114.5,-36.5 \"/>\n<text text-anchor=\"middle\" x=\"153.5\" y=\"-14.8\" font-family=\"Times,serif\" font-size=\"14.00\">grad [0.,0.]</text>\n</g>\n<!-- 140089197854144&#45;&gt;140089198203456* -->\n<g id=\"edge14\" class=\"edge\">\n<title>140089197854144&#45;&gt;140089198203456*</title>\n<path fill=\"none\" stroke=\"black\" d=\"M166.74,-36.56C176.95,-39.66 187.31,-43.01 197,-46.5 207.27,-50.19 218.27,-54.77 228.1,-59.09\"/>\n<polygon fill=\"black\" stroke=\"black\" points=\"226.92,-62.4 237.47,-63.3 229.78,-56.01 226.92,-62.4\"/>\n</g>\n</g>\n</svg>\n",
            "text/plain": [
              "<graphviz.graphs.Digraph at 0x7f690ee56350>"
            ]
          },
          "metadata": {},
          "execution_count": 3
        }
      ]
    },
    {
      "cell_type": "code",
      "source": [
        "# perform backward propagation to compute gradients\n",
        "o.backward()\n",
        "\n",
        "# visualizing the updated computation graph\n",
        "draw_dot(o)"
      ],
      "metadata": {
        "colab": {
          "base_uri": "https://localhost:8080/",
          "height": 321
        },
        "id": "CX0Kr-4HMyfk",
        "outputId": "605d10ed-b4fe-4daa-e8ab-ac796c5480b2"
      },
      "execution_count": 4,
      "outputs": [
        {
          "output_type": "execute_result",
          "data": {
            "image/svg+xml": "<?xml version=\"1.0\" encoding=\"UTF-8\" standalone=\"no\"?>\n<!DOCTYPE svg PUBLIC \"-//W3C//DTD SVG 1.1//EN\"\n \"http://www.w3.org/Graphics/SVG/1.1/DTD/svg11.dtd\">\n<!-- Generated by graphviz version 2.43.0 (0)\n -->\n<!-- Title: %3 Pages: 1 -->\n<svg width=\"1699pt\" height=\"210pt\"\n viewBox=\"0.00 0.00 1699.00 210.00\" xmlns=\"http://www.w3.org/2000/svg\" xmlns:xlink=\"http://www.w3.org/1999/xlink\">\n<g id=\"graph0\" class=\"graph\" transform=\"scale(1 1) rotate(0) translate(4 206)\">\n<title>%3</title>\n<polygon fill=\"white\" stroke=\"transparent\" points=\"-4,4 -4,-206 1695,-206 1695,4 -4,4\"/>\n<!-- 140089198203456 -->\n<g id=\"node1\" class=\"node\">\n<title>140089198203456</title>\n<polygon fill=\"none\" stroke=\"black\" points=\"338.5,-55.5 338.5,-91.5 560.5,-91.5 560.5,-55.5 338.5,-55.5\"/>\n<text text-anchor=\"middle\" x=\"365\" y=\"-69.8\" font-family=\"Times,serif\" font-size=\"14.00\">x2*w2</text>\n<polyline fill=\"none\" stroke=\"black\" points=\"391.5,-55.5 391.5,-91.5 \"/>\n<text text-anchor=\"middle\" x=\"430\" y=\"-69.8\" font-family=\"Times,serif\" font-size=\"14.00\">data [0.,0.]</text>\n<polyline fill=\"none\" stroke=\"black\" points=\"468.5,-55.5 468.5,-91.5 \"/>\n<text text-anchor=\"middle\" x=\"514.5\" y=\"-69.8\" font-family=\"Times,serif\" font-size=\"14.00\">grad [0.5,0.5]</text>\n</g>\n<!-- 140089198208400+ -->\n<g id=\"node13\" class=\"node\">\n<title>140089198208400+</title>\n<ellipse fill=\"none\" stroke=\"black\" cx=\"628\" cy=\"-100.5\" rx=\"27\" ry=\"18\"/>\n<text text-anchor=\"middle\" x=\"628\" y=\"-96.8\" font-family=\"Times,serif\" font-size=\"14.00\">+</text>\n</g>\n<!-- 140089198203456&#45;&gt;140089198208400+ -->\n<g id=\"edge7\" class=\"edge\">\n<title>140089198203456&#45;&gt;140089198208400+</title>\n<path fill=\"none\" stroke=\"black\" d=\"M560.52,-90.33C571.59,-92.02 582.18,-93.64 591.52,-95.07\"/>\n<polygon fill=\"black\" stroke=\"black\" points=\"591.07,-98.54 601.49,-96.6 592.13,-91.63 591.07,-98.54\"/>\n</g>\n<!-- 140089198203456* -->\n<g id=\"node2\" class=\"node\">\n<title>140089198203456*</title>\n<ellipse fill=\"none\" stroke=\"black\" cx=\"271\" cy=\"-73.5\" rx=\"27\" ry=\"18\"/>\n<text text-anchor=\"middle\" x=\"271\" y=\"-69.8\" font-family=\"Times,serif\" font-size=\"14.00\">*</text>\n</g>\n<!-- 140089198203456*&#45;&gt;140089198203456 -->\n<g id=\"edge1\" class=\"edge\">\n<title>140089198203456*&#45;&gt;140089198203456</title>\n<path fill=\"none\" stroke=\"black\" d=\"M298.04,-73.5C306.79,-73.5 317.21,-73.5 328.41,-73.5\"/>\n<polygon fill=\"black\" stroke=\"black\" points=\"328.44,-77 338.44,-73.5 328.44,-70 328.44,-77\"/>\n</g>\n<!-- 140089198205616 -->\n<g id=\"node3\" class=\"node\">\n<title>140089198205616</title>\n<polygon fill=\"none\" stroke=\"black\" points=\"334,-110.5 334,-146.5 565,-146.5 565,-110.5 334,-110.5\"/>\n<text text-anchor=\"middle\" x=\"360.5\" y=\"-124.8\" font-family=\"Times,serif\" font-size=\"14.00\">x1*w1</text>\n<polyline fill=\"none\" stroke=\"black\" points=\"387,-110.5 387,-146.5 \"/>\n<text text-anchor=\"middle\" x=\"430\" y=\"-124.8\" font-family=\"Times,serif\" font-size=\"14.00\">data [&#45;6.,&#45;6.]</text>\n<polyline fill=\"none\" stroke=\"black\" points=\"473,-110.5 473,-146.5 \"/>\n<text text-anchor=\"middle\" x=\"519\" y=\"-124.8\" font-family=\"Times,serif\" font-size=\"14.00\">grad [0.5,0.5]</text>\n</g>\n<!-- 140089198205616&#45;&gt;140089198208400+ -->\n<g id=\"edge6\" class=\"edge\">\n<title>140089198205616&#45;&gt;140089198208400+</title>\n<path fill=\"none\" stroke=\"black\" d=\"M564.28,-110.45C574.03,-108.9 583.33,-107.43 591.64,-106.11\"/>\n<polygon fill=\"black\" stroke=\"black\" points=\"592.27,-109.55 601.59,-104.53 591.17,-102.64 592.27,-109.55\"/>\n</g>\n<!-- 140089198205616* -->\n<g id=\"node4\" class=\"node\">\n<title>140089198205616*</title>\n<ellipse fill=\"none\" stroke=\"black\" cx=\"271\" cy=\"-128.5\" rx=\"27\" ry=\"18\"/>\n<text text-anchor=\"middle\" x=\"271\" y=\"-124.8\" font-family=\"Times,serif\" font-size=\"14.00\">*</text>\n</g>\n<!-- 140089198205616*&#45;&gt;140089198205616 -->\n<g id=\"edge2\" class=\"edge\">\n<title>140089198205616*&#45;&gt;140089198205616</title>\n<path fill=\"none\" stroke=\"black\" d=\"M298.04,-128.5C305.59,-128.5 314.37,-128.5 323.82,-128.5\"/>\n<polygon fill=\"black\" stroke=\"black\" points=\"323.89,-132 333.89,-128.5 323.89,-125 323.89,-132\"/>\n</g>\n<!-- 140089198207680 -->\n<g id=\"node5\" class=\"node\">\n<title>140089198207680</title>\n<polygon fill=\"none\" stroke=\"black\" points=\"1459,-109.5 1459,-145.5 1691,-145.5 1691,-109.5 1459,-109.5\"/>\n<text text-anchor=\"middle\" x=\"1470.5\" y=\"-123.8\" font-family=\"Times,serif\" font-size=\"14.00\">o</text>\n<polyline fill=\"none\" stroke=\"black\" points=\"1482,-109.5 1482,-145.5 \"/>\n<text text-anchor=\"middle\" x=\"1547.5\" y=\"-123.8\" font-family=\"Times,serif\" font-size=\"14.00\">data [0.7071,0.7071]</text>\n<polyline fill=\"none\" stroke=\"black\" points=\"1613,-109.5 1613,-145.5 \"/>\n<text text-anchor=\"middle\" x=\"1652\" y=\"-123.8\" font-family=\"Times,serif\" font-size=\"14.00\">grad [1.,1.]</text>\n</g>\n<!-- 140089198207680tanh -->\n<g id=\"node6\" class=\"node\">\n<title>140089198207680tanh</title>\n<ellipse fill=\"none\" stroke=\"black\" cx=\"1396\" cy=\"-127.5\" rx=\"27\" ry=\"18\"/>\n<text text-anchor=\"middle\" x=\"1396\" y=\"-123.8\" font-family=\"Times,serif\" font-size=\"14.00\">tanh</text>\n</g>\n<!-- 140089198207680tanh&#45;&gt;140089198207680 -->\n<g id=\"edge3\" class=\"edge\">\n<title>140089198207680tanh&#45;&gt;140089198207680</title>\n<path fill=\"none\" stroke=\"black\" d=\"M1423.12,-127.5C1430.53,-127.5 1439.14,-127.5 1448.4,-127.5\"/>\n<polygon fill=\"black\" stroke=\"black\" points=\"1448.69,-131 1458.69,-127.5 1448.69,-124 1448.69,-131\"/>\n</g>\n<!-- 140089197849824 -->\n<g id=\"node7\" class=\"node\">\n<title>140089197849824</title>\n<polygon fill=\"none\" stroke=\"black\" points=\"0,-165.5 0,-201.5 208,-201.5 208,-165.5 0,-165.5\"/>\n<text text-anchor=\"middle\" x=\"15\" y=\"-179.8\" font-family=\"Times,serif\" font-size=\"14.00\">x1</text>\n<polyline fill=\"none\" stroke=\"black\" points=\"30,-165.5 30,-201.5 \"/>\n<text text-anchor=\"middle\" x=\"68.5\" y=\"-179.8\" font-family=\"Times,serif\" font-size=\"14.00\">data [2.,2.]</text>\n<polyline fill=\"none\" stroke=\"black\" points=\"107,-165.5 107,-201.5 \"/>\n<text text-anchor=\"middle\" x=\"157.5\" y=\"-179.8\" font-family=\"Times,serif\" font-size=\"14.00\">grad [&#45;1.5,&#45;1.5]</text>\n</g>\n<!-- 140089197849824&#45;&gt;140089198205616* -->\n<g id=\"edge9\" class=\"edge\">\n<title>140089197849824&#45;&gt;140089198205616*</title>\n<path fill=\"none\" stroke=\"black\" d=\"M179.99,-165.42C189.49,-162.67 199.03,-159.68 208,-156.5 218.55,-152.77 229.78,-147.96 239.74,-143.39\"/>\n<polygon fill=\"black\" stroke=\"black\" points=\"241.28,-146.54 248.84,-139.12 238.3,-140.2 241.28,-146.54\"/>\n</g>\n<!-- 140089197853952 -->\n<g id=\"node8\" class=\"node\">\n<title>140089197853952</title>\n<polygon fill=\"none\" stroke=\"black\" points=\"5.5,-110.5 5.5,-146.5 202.5,-146.5 202.5,-110.5 5.5,-110.5\"/>\n<text text-anchor=\"middle\" x=\"22\" y=\"-124.8\" font-family=\"Times,serif\" font-size=\"14.00\">w1</text>\n<polyline fill=\"none\" stroke=\"black\" points=\"38.5,-110.5 38.5,-146.5 \"/>\n<text text-anchor=\"middle\" x=\"81.5\" y=\"-124.8\" font-family=\"Times,serif\" font-size=\"14.00\">data [&#45;3.,&#45;3.]</text>\n<polyline fill=\"none\" stroke=\"black\" points=\"124.5,-110.5 124.5,-146.5 \"/>\n<text text-anchor=\"middle\" x=\"163.5\" y=\"-124.8\" font-family=\"Times,serif\" font-size=\"14.00\">grad [1.,1.]</text>\n</g>\n<!-- 140089197853952&#45;&gt;140089198205616* -->\n<g id=\"edge12\" class=\"edge\">\n<title>140089197853952&#45;&gt;140089198205616*</title>\n<path fill=\"none\" stroke=\"black\" d=\"M202.89,-128.5C213.88,-128.5 224.49,-128.5 233.91,-128.5\"/>\n<polygon fill=\"black\" stroke=\"black\" points=\"233.99,-132 243.99,-128.5 233.99,-125 233.99,-132\"/>\n</g>\n<!-- 140089198208304 -->\n<g id=\"node9\" class=\"node\">\n<title>140089198208304</title>\n<polygon fill=\"none\" stroke=\"black\" points=\"1087,-109.5 1087,-145.5 1333,-145.5 1333,-109.5 1087,-109.5\"/>\n<text text-anchor=\"middle\" x=\"1098.5\" y=\"-123.8\" font-family=\"Times,serif\" font-size=\"14.00\">n</text>\n<polyline fill=\"none\" stroke=\"black\" points=\"1110,-109.5 1110,-145.5 \"/>\n<text text-anchor=\"middle\" x=\"1175.5\" y=\"-123.8\" font-family=\"Times,serif\" font-size=\"14.00\">data [0.8814,0.8814]</text>\n<polyline fill=\"none\" stroke=\"black\" points=\"1241,-109.5 1241,-145.5 \"/>\n<text text-anchor=\"middle\" x=\"1287\" y=\"-123.8\" font-family=\"Times,serif\" font-size=\"14.00\">grad [0.5,0.5]</text>\n</g>\n<!-- 140089198208304&#45;&gt;140089198207680tanh -->\n<g id=\"edge8\" class=\"edge\">\n<title>140089198208304&#45;&gt;140089198207680tanh</title>\n<path fill=\"none\" stroke=\"black\" d=\"M1333.22,-127.5C1342.35,-127.5 1351.03,-127.5 1358.84,-127.5\"/>\n<polygon fill=\"black\" stroke=\"black\" points=\"1358.92,-131 1368.92,-127.5 1358.92,-124 1358.92,-131\"/>\n</g>\n<!-- 140089198208304+ -->\n<g id=\"node10\" class=\"node\">\n<title>140089198208304+</title>\n<ellipse fill=\"none\" stroke=\"black\" cx=\"1024\" cy=\"-127.5\" rx=\"27\" ry=\"18\"/>\n<text text-anchor=\"middle\" x=\"1024\" y=\"-123.8\" font-family=\"Times,serif\" font-size=\"14.00\">+</text>\n</g>\n<!-- 140089198208304+&#45;&gt;140089198208304 -->\n<g id=\"edge4\" class=\"edge\">\n<title>140089198208304+&#45;&gt;140089198208304</title>\n<path fill=\"none\" stroke=\"black\" d=\"M1051.36,-127.5C1058.73,-127.5 1067.28,-127.5 1076.5,-127.5\"/>\n<polygon fill=\"black\" stroke=\"black\" points=\"1076.75,-131 1086.75,-127.5 1076.75,-124 1076.75,-131\"/>\n</g>\n<!-- 140089197849920 -->\n<g id=\"node11\" class=\"node\">\n<title>140089197849920</title>\n<polygon fill=\"none\" stroke=\"black\" points=\"4.5,-55.5 4.5,-91.5 203.5,-91.5 203.5,-55.5 4.5,-55.5\"/>\n<text text-anchor=\"middle\" x=\"19.5\" y=\"-69.8\" font-family=\"Times,serif\" font-size=\"14.00\">x2</text>\n<polyline fill=\"none\" stroke=\"black\" points=\"34.5,-55.5 34.5,-91.5 \"/>\n<text text-anchor=\"middle\" x=\"73\" y=\"-69.8\" font-family=\"Times,serif\" font-size=\"14.00\">data [0.,0.]</text>\n<polyline fill=\"none\" stroke=\"black\" points=\"111.5,-55.5 111.5,-91.5 \"/>\n<text text-anchor=\"middle\" x=\"157.5\" y=\"-69.8\" font-family=\"Times,serif\" font-size=\"14.00\">grad [0.5,0.5]</text>\n</g>\n<!-- 140089197849920&#45;&gt;140089198203456* -->\n<g id=\"edge13\" class=\"edge\">\n<title>140089197849920&#45;&gt;140089198203456*</title>\n<path fill=\"none\" stroke=\"black\" d=\"M203.84,-73.5C214.4,-73.5 224.58,-73.5 233.66,-73.5\"/>\n<polygon fill=\"black\" stroke=\"black\" points=\"233.78,-77 243.78,-73.5 233.78,-70 233.78,-77\"/>\n</g>\n<!-- 140089198208400 -->\n<g id=\"node12\" class=\"node\">\n<title>140089198208400</title>\n<polygon fill=\"none\" stroke=\"black\" points=\"691,-82.5 691,-118.5 961,-118.5 961,-82.5 691,-82.5\"/>\n<text text-anchor=\"middle\" x=\"737\" y=\"-96.8\" font-family=\"Times,serif\" font-size=\"14.00\">x1w1 + x2w2</text>\n<polyline fill=\"none\" stroke=\"black\" points=\"783,-82.5 783,-118.5 \"/>\n<text text-anchor=\"middle\" x=\"826\" y=\"-96.8\" font-family=\"Times,serif\" font-size=\"14.00\">data [&#45;6.,&#45;6.]</text>\n<polyline fill=\"none\" stroke=\"black\" points=\"869,-82.5 869,-118.5 \"/>\n<text text-anchor=\"middle\" x=\"915\" y=\"-96.8\" font-family=\"Times,serif\" font-size=\"14.00\">grad [0.5,0.5]</text>\n</g>\n<!-- 140089198208400&#45;&gt;140089198208304+ -->\n<g id=\"edge10\" class=\"edge\">\n<title>140089198208400&#45;&gt;140089198208304+</title>\n<path fill=\"none\" stroke=\"black\" d=\"M957.73,-118.51C968.32,-119.97 978.33,-121.35 987.18,-122.57\"/>\n<polygon fill=\"black\" stroke=\"black\" points=\"986.99,-126.07 997.37,-123.97 987.94,-119.14 986.99,-126.07\"/>\n</g>\n<!-- 140089198208400+&#45;&gt;140089198208400 -->\n<g id=\"edge5\" class=\"edge\">\n<title>140089198208400+&#45;&gt;140089198208400</title>\n<path fill=\"none\" stroke=\"black\" d=\"M655.03,-100.5C662.52,-100.5 671.27,-100.5 680.77,-100.5\"/>\n<polygon fill=\"black\" stroke=\"black\" points=\"680.93,-104 690.93,-100.5 680.93,-97 680.93,-104\"/>\n</g>\n<!-- 140089197850016 -->\n<g id=\"node14\" class=\"node\">\n<title>140089197850016</title>\n<polygon fill=\"none\" stroke=\"black\" points=\"703,-137.5 703,-173.5 949,-173.5 949,-137.5 703,-137.5\"/>\n<text text-anchor=\"middle\" x=\"714.5\" y=\"-151.8\" font-family=\"Times,serif\" font-size=\"14.00\">b</text>\n<polyline fill=\"none\" stroke=\"black\" points=\"726,-137.5 726,-173.5 \"/>\n<text text-anchor=\"middle\" x=\"791.5\" y=\"-151.8\" font-family=\"Times,serif\" font-size=\"14.00\">data [6.8814,6.8814]</text>\n<polyline fill=\"none\" stroke=\"black\" points=\"857,-137.5 857,-173.5 \"/>\n<text text-anchor=\"middle\" x=\"903\" y=\"-151.8\" font-family=\"Times,serif\" font-size=\"14.00\">grad [0.5,0.5]</text>\n</g>\n<!-- 140089197850016&#45;&gt;140089198208304+ -->\n<g id=\"edge11\" class=\"edge\">\n<title>140089197850016&#45;&gt;140089198208304+</title>\n<path fill=\"none\" stroke=\"black\" d=\"M949.18,-138.05C962.94,-136.08 976.03,-134.21 987.25,-132.61\"/>\n<polygon fill=\"black\" stroke=\"black\" points=\"988,-136.04 997.41,-131.16 987.01,-129.11 988,-136.04\"/>\n</g>\n<!-- 140089197854144 -->\n<g id=\"node15\" class=\"node\">\n<title>140089197854144</title>\n<polygon fill=\"none\" stroke=\"black\" points=\"10,-0.5 10,-36.5 198,-36.5 198,-0.5 10,-0.5\"/>\n<text text-anchor=\"middle\" x=\"26.5\" y=\"-14.8\" font-family=\"Times,serif\" font-size=\"14.00\">w2</text>\n<polyline fill=\"none\" stroke=\"black\" points=\"43,-0.5 43,-36.5 \"/>\n<text text-anchor=\"middle\" x=\"81.5\" y=\"-14.8\" font-family=\"Times,serif\" font-size=\"14.00\">data [1.,1.]</text>\n<polyline fill=\"none\" stroke=\"black\" points=\"120,-0.5 120,-36.5 \"/>\n<text text-anchor=\"middle\" x=\"159\" y=\"-14.8\" font-family=\"Times,serif\" font-size=\"14.00\">grad [0.,0.]</text>\n</g>\n<!-- 140089197854144&#45;&gt;140089198203456* -->\n<g id=\"edge14\" class=\"edge\">\n<title>140089197854144&#45;&gt;140089198203456*</title>\n<path fill=\"none\" stroke=\"black\" d=\"M176.61,-36.52C187.22,-39.61 197.95,-42.97 208,-46.5 218.3,-50.12 229.3,-54.67 239.13,-59.01\"/>\n<polygon fill=\"black\" stroke=\"black\" points=\"237.95,-62.31 248.5,-63.22 240.82,-55.93 237.95,-62.31\"/>\n</g>\n</g>\n</svg>\n",
            "text/plain": [
              "<graphviz.graphs.Digraph at 0x7f690ee48940>"
            ]
          },
          "metadata": {},
          "execution_count": 4
        }
      ]
    },
    {
      "cell_type": "code",
      "source": [
        "# constructing and visualizing the computation graph for a neural network forward pass and performing backward propagation\n",
        "\n",
        "# inputs x1,x2\n",
        "x1 = Value(2.0, label=\"x1\")\n",
        "x2 = Value(0.0, label=\"x2\")\n",
        "\n",
        "# weights w1, w2\n",
        "w1 = Value(-3.0, label=\"w1\")\n",
        "w2 = Value(1.0, label=\"w2\")\n",
        "\n",
        "# bias of the neurons\n",
        "b = Value(6.8813735870195432, label=\"b\")\n",
        "\n",
        "# x1*w1 + x2*w2 + b\n",
        "x1w1 = x1*w1; x1w1.label = 'x1*w1'\n",
        "x2w2 = x2*w2; x2w2.label = 'x2*w2'\n",
        "x1w1x2w2 = x1w1 + x2w2; x1w1x2w2.label = 'x1w1 + x2w2'\n",
        "n = x1w1x2w2 + b; n.label = 'n'\n",
        "\n",
        "# break tanh() into the following expression (hyperbolic tangent)\n",
        "\n",
        "# computes the value of 'e' by taking the exponential function of the expression '2*n'\n",
        "e = (2*n).exp(); e.label = 'e'\n",
        "# computes the value of 'o' using the values of 'e' & subtracts 1 from 'e' and divides it by 'e' plus 1, following a mathematical expression\n",
        "o = (e - 1) / (e + 1); o.label = 'o'\n",
        "\n",
        "# perform backward propagation to compute gradients\n",
        "o.backward()\n",
        "\n",
        "# visualizing the updated computation graph\n",
        "draw_dot(o)"
      ],
      "metadata": {
        "colab": {
          "base_uri": "https://localhost:8080/",
          "height": 360
        },
        "id": "8td2h163Ohv8",
        "outputId": "02314ca7-1880-4b94-8a44-8a645808c384"
      },
      "execution_count": 5,
      "outputs": [
        {
          "output_type": "execute_result",
          "data": {
            "image/svg+xml": "<?xml version=\"1.0\" encoding=\"UTF-8\" standalone=\"no\"?>\n<!DOCTYPE svg PUBLIC \"-//W3C//DTD SVG 1.1//EN\"\n \"http://www.w3.org/Graphics/SVG/1.1/DTD/svg11.dtd\">\n<!-- Generated by graphviz version 2.43.0 (0)\n -->\n<!-- Title: %3 Pages: 1 -->\n<svg width=\"2722pt\" height=\"239pt\"\n viewBox=\"0.00 0.00 2722.00 239.00\" xmlns=\"http://www.w3.org/2000/svg\" xmlns:xlink=\"http://www.w3.org/1999/xlink\">\n<g id=\"graph0\" class=\"graph\" transform=\"scale(1 1) rotate(0) translate(4 235)\">\n<title>%3</title>\n<polygon fill=\"white\" stroke=\"transparent\" points=\"-4,4 -4,-235 2718,-235 2718,4 -4,4\"/>\n<!-- 140089198199808 -->\n<g id=\"node1\" class=\"node\">\n<title>140089198199808</title>\n<polygon fill=\"none\" stroke=\"black\" points=\"1511.5,-110.5 1511.5,-146.5 1667.5,-146.5 1667.5,-110.5 1511.5,-110.5\"/>\n<text text-anchor=\"middle\" x=\"1521.5\" y=\"-124.8\" font-family=\"Times,serif\" font-size=\"14.00\"> </text>\n<polyline fill=\"none\" stroke=\"black\" points=\"1531.5,-110.5 1531.5,-146.5 \"/>\n<text text-anchor=\"middle\" x=\"1556.5\" y=\"-124.8\" font-family=\"Times,serif\" font-size=\"14.00\">data 1</text>\n<polyline fill=\"none\" stroke=\"black\" points=\"1581.5,-110.5 1581.5,-146.5 \"/>\n<text text-anchor=\"middle\" x=\"1624.5\" y=\"-124.8\" font-family=\"Times,serif\" font-size=\"14.00\">grad &#45;0.1036</text>\n</g>\n<!-- 140089198199232+ -->\n<g id=\"node27\" class=\"node\">\n<title>140089198199232+</title>\n<ellipse fill=\"none\" stroke=\"black\" cx=\"1745\" cy=\"-100.5\" rx=\"27\" ry=\"18\"/>\n<text text-anchor=\"middle\" x=\"1745\" y=\"-96.8\" font-family=\"Times,serif\" font-size=\"14.00\">+</text>\n</g>\n<!-- 140089198199808&#45;&gt;140089198199232+ -->\n<g id=\"edge14\" class=\"edge\">\n<title>140089198199808&#45;&gt;140089198199232+</title>\n<path fill=\"none\" stroke=\"black\" d=\"M1667.7,-114.42C1682.16,-111.78 1696.61,-109.14 1708.98,-106.89\"/>\n<polygon fill=\"black\" stroke=\"black\" points=\"1709.62,-110.33 1718.83,-105.09 1708.36,-103.44 1709.62,-110.33\"/>\n</g>\n<!-- 140089198201872 -->\n<g id=\"node2\" class=\"node\">\n<title>140089198201872</title>\n<polygon fill=\"none\" stroke=\"black\" points=\"574,-111.5 574,-147.5 786,-147.5 786,-111.5 574,-111.5\"/>\n<text text-anchor=\"middle\" x=\"620\" y=\"-125.8\" font-family=\"Times,serif\" font-size=\"14.00\">x1w1 + x2w2</text>\n<polyline fill=\"none\" stroke=\"black\" points=\"666,-111.5 666,-147.5 \"/>\n<text text-anchor=\"middle\" x=\"695\" y=\"-125.8\" font-family=\"Times,serif\" font-size=\"14.00\">data &#45;6.</text>\n<polyline fill=\"none\" stroke=\"black\" points=\"724,-111.5 724,-147.5 \"/>\n<text text-anchor=\"middle\" x=\"755\" y=\"-125.8\" font-family=\"Times,serif\" font-size=\"14.00\">grad 0.5</text>\n</g>\n<!-- 140089198201968+ -->\n<g id=\"node9\" class=\"node\">\n<title>140089198201968+</title>\n<ellipse fill=\"none\" stroke=\"black\" cx=\"849\" cy=\"-101.5\" rx=\"27\" ry=\"18\"/>\n<text text-anchor=\"middle\" x=\"849\" y=\"-97.8\" font-family=\"Times,serif\" font-size=\"14.00\">+</text>\n</g>\n<!-- 140089198201872&#45;&gt;140089198201968+ -->\n<g id=\"edge15\" class=\"edge\">\n<title>140089198201872&#45;&gt;140089198201968+</title>\n<path fill=\"none\" stroke=\"black\" d=\"M786.29,-111.85C795.62,-110.28 804.56,-108.78 812.6,-107.44\"/>\n<polygon fill=\"black\" stroke=\"black\" points=\"813.31,-110.86 822.6,-105.76 812.16,-103.96 813.31,-110.86\"/>\n</g>\n<!-- 140089198201872+ -->\n<g id=\"node3\" class=\"node\">\n<title>140089198201872+</title>\n<ellipse fill=\"none\" stroke=\"black\" cx=\"511\" cy=\"-129.5\" rx=\"27\" ry=\"18\"/>\n<text text-anchor=\"middle\" x=\"511\" y=\"-125.8\" font-family=\"Times,serif\" font-size=\"14.00\">+</text>\n</g>\n<!-- 140089198201872+&#45;&gt;140089198201872 -->\n<g id=\"edge1\" class=\"edge\">\n<title>140089198201872+&#45;&gt;140089198201872</title>\n<path fill=\"none\" stroke=\"black\" d=\"M538.09,-129.5C545.65,-129.5 554.42,-129.5 563.83,-129.5\"/>\n<polygon fill=\"black\" stroke=\"black\" points=\"563.83,-133 573.83,-129.5 563.83,-126 563.83,-133\"/>\n</g>\n<!-- 140089198200384 -->\n<g id=\"node4\" class=\"node\">\n<title>140089198200384</title>\n<polygon fill=\"none\" stroke=\"black\" points=\"275,-139.5 275,-175.5 448,-175.5 448,-139.5 275,-139.5\"/>\n<text text-anchor=\"middle\" x=\"301.5\" y=\"-153.8\" font-family=\"Times,serif\" font-size=\"14.00\">x1*w1</text>\n<polyline fill=\"none\" stroke=\"black\" points=\"328,-139.5 328,-175.5 \"/>\n<text text-anchor=\"middle\" x=\"357\" y=\"-153.8\" font-family=\"Times,serif\" font-size=\"14.00\">data &#45;6.</text>\n<polyline fill=\"none\" stroke=\"black\" points=\"386,-139.5 386,-175.5 \"/>\n<text text-anchor=\"middle\" x=\"417\" y=\"-153.8\" font-family=\"Times,serif\" font-size=\"14.00\">grad 0.5</text>\n</g>\n<!-- 140089198200384&#45;&gt;140089198201872+ -->\n<g id=\"edge12\" class=\"edge\">\n<title>140089198200384&#45;&gt;140089198201872+</title>\n<path fill=\"none\" stroke=\"black\" d=\"M448.3,-141.21C457.66,-139.44 466.75,-137.71 474.95,-136.15\"/>\n<polygon fill=\"black\" stroke=\"black\" points=\"475.64,-139.58 484.82,-134.28 474.34,-132.71 475.64,-139.58\"/>\n</g>\n<!-- 140089198200384* -->\n<g id=\"node5\" class=\"node\">\n<title>140089198200384*</title>\n<ellipse fill=\"none\" stroke=\"black\" cx=\"212\" cy=\"-157.5\" rx=\"27\" ry=\"18\"/>\n<text text-anchor=\"middle\" x=\"212\" y=\"-153.8\" font-family=\"Times,serif\" font-size=\"14.00\">*</text>\n</g>\n<!-- 140089198200384*&#45;&gt;140089198200384 -->\n<g id=\"edge2\" class=\"edge\">\n<title>140089198200384*&#45;&gt;140089198200384</title>\n<path fill=\"none\" stroke=\"black\" d=\"M239.03,-157.5C246.62,-157.5 255.4,-157.5 264.69,-157.5\"/>\n<polygon fill=\"black\" stroke=\"black\" points=\"264.93,-161 274.93,-157.5 264.93,-154 264.93,-161\"/>\n</g>\n<!-- 140089198213200 -->\n<g id=\"node6\" class=\"node\">\n<title>140089198213200</title>\n<polygon fill=\"none\" stroke=\"black\" points=\"0,-194.5 0,-230.5 149,-230.5 149,-194.5 0,-194.5\"/>\n<text text-anchor=\"middle\" x=\"15\" y=\"-208.8\" font-family=\"Times,serif\" font-size=\"14.00\">x1</text>\n<polyline fill=\"none\" stroke=\"black\" points=\"30,-194.5 30,-230.5 \"/>\n<text text-anchor=\"middle\" x=\"56.5\" y=\"-208.8\" font-family=\"Times,serif\" font-size=\"14.00\">data 2.</text>\n<polyline fill=\"none\" stroke=\"black\" points=\"83,-194.5 83,-230.5 \"/>\n<text text-anchor=\"middle\" x=\"116\" y=\"-208.8\" font-family=\"Times,serif\" font-size=\"14.00\">grad &#45;1.5</text>\n</g>\n<!-- 140089198213200&#45;&gt;140089198200384* -->\n<g id=\"edge16\" class=\"edge\">\n<title>140089198213200&#45;&gt;140089198200384*</title>\n<path fill=\"none\" stroke=\"black\" d=\"M126.29,-194.38C133.94,-191.5 141.7,-188.48 149,-185.5 159.36,-181.27 170.54,-176.33 180.51,-171.79\"/>\n<polygon fill=\"black\" stroke=\"black\" points=\"182.02,-174.96 189.65,-167.6 179.1,-168.59 182.02,-174.96\"/>\n</g>\n<!-- 140089198211136 -->\n<g id=\"node7\" class=\"node\">\n<title>140089198211136</title>\n<polygon fill=\"none\" stroke=\"black\" points=\"1511.5,-0.5 1511.5,-36.5 1667.5,-36.5 1667.5,-0.5 1511.5,-0.5\"/>\n<text text-anchor=\"middle\" x=\"1521.5\" y=\"-14.8\" font-family=\"Times,serif\" font-size=\"14.00\"> </text>\n<polyline fill=\"none\" stroke=\"black\" points=\"1531.5,-0.5 1531.5,-36.5 \"/>\n<text text-anchor=\"middle\" x=\"1558.5\" y=\"-14.8\" font-family=\"Times,serif\" font-size=\"14.00\">data &#45;1</text>\n<polyline fill=\"none\" stroke=\"black\" points=\"1585.5,-0.5 1585.5,-36.5 \"/>\n<text text-anchor=\"middle\" x=\"1626.5\" y=\"-14.8\" font-family=\"Times,serif\" font-size=\"14.00\">grad 0.1464</text>\n</g>\n<!-- 140089198203216+ -->\n<g id=\"node22\" class=\"node\">\n<title>140089198203216+</title>\n<ellipse fill=\"none\" stroke=\"black\" cx=\"1745\" cy=\"-45.5\" rx=\"27\" ry=\"18\"/>\n<text text-anchor=\"middle\" x=\"1745\" y=\"-41.8\" font-family=\"Times,serif\" font-size=\"14.00\">+</text>\n</g>\n<!-- 140089198211136&#45;&gt;140089198203216+ -->\n<g id=\"edge27\" class=\"edge\">\n<title>140089198211136&#45;&gt;140089198203216+</title>\n<path fill=\"none\" stroke=\"black\" d=\"M1667.7,-32.08C1681.9,-34.58 1696.09,-37.07 1708.31,-39.22\"/>\n<polygon fill=\"black\" stroke=\"black\" points=\"1708.03,-42.73 1718.49,-41.01 1709.24,-35.83 1708.03,-42.73\"/>\n</g>\n<!-- 140089198201968 -->\n<g id=\"node8\" class=\"node\">\n<title>140089198201968</title>\n<polygon fill=\"none\" stroke=\"black\" points=\"912,-83.5 912,-119.5 1077,-119.5 1077,-83.5 912,-83.5\"/>\n<text text-anchor=\"middle\" x=\"923.5\" y=\"-97.8\" font-family=\"Times,serif\" font-size=\"14.00\">n</text>\n<polyline fill=\"none\" stroke=\"black\" points=\"935,-83.5 935,-119.5 \"/>\n<text text-anchor=\"middle\" x=\"975\" y=\"-97.8\" font-family=\"Times,serif\" font-size=\"14.00\">data 0.8814</text>\n<polyline fill=\"none\" stroke=\"black\" points=\"1015,-83.5 1015,-119.5 \"/>\n<text text-anchor=\"middle\" x=\"1046\" y=\"-97.8\" font-family=\"Times,serif\" font-size=\"14.00\">grad 0.5</text>\n</g>\n<!-- 140089198202496* -->\n<g id=\"node11\" class=\"node\">\n<title>140089198202496*</title>\n<ellipse fill=\"none\" stroke=\"black\" cx=\"1140\" cy=\"-73.5\" rx=\"27\" ry=\"18\"/>\n<text text-anchor=\"middle\" x=\"1140\" y=\"-69.8\" font-family=\"Times,serif\" font-size=\"14.00\">*</text>\n</g>\n<!-- 140089198201968&#45;&gt;140089198202496* -->\n<g id=\"edge22\" class=\"edge\">\n<title>140089198201968&#45;&gt;140089198202496*</title>\n<path fill=\"none\" stroke=\"black\" d=\"M1077.31,-85.54C1086.6,-83.72 1095.67,-81.96 1103.86,-80.36\"/>\n<polygon fill=\"black\" stroke=\"black\" points=\"1104.58,-83.78 1113.73,-78.43 1103.24,-76.91 1104.58,-83.78\"/>\n</g>\n<!-- 140089198201968+&#45;&gt;140089198201968 -->\n<g id=\"edge3\" class=\"edge\">\n<title>140089198201968+&#45;&gt;140089198201968</title>\n<path fill=\"none\" stroke=\"black\" d=\"M876.32,-101.5C883.87,-101.5 892.55,-101.5 901.71,-101.5\"/>\n<polygon fill=\"black\" stroke=\"black\" points=\"901.8,-105 911.8,-101.5 901.8,-98 901.8,-105\"/>\n</g>\n<!-- 140089198202496 -->\n<g id=\"node10\" class=\"node\">\n<title>140089198202496</title>\n<polygon fill=\"none\" stroke=\"black\" points=\"1203,-55.5 1203,-91.5 1371,-91.5 1371,-55.5 1203,-55.5\"/>\n<text text-anchor=\"middle\" x=\"1213\" y=\"-69.8\" font-family=\"Times,serif\" font-size=\"14.00\"> </text>\n<polyline fill=\"none\" stroke=\"black\" points=\"1223,-55.5 1223,-91.5 \"/>\n<text text-anchor=\"middle\" x=\"1263\" y=\"-69.8\" font-family=\"Times,serif\" font-size=\"14.00\">data 1.7627</text>\n<polyline fill=\"none\" stroke=\"black\" points=\"1303,-55.5 1303,-91.5 \"/>\n<text text-anchor=\"middle\" x=\"1337\" y=\"-69.8\" font-family=\"Times,serif\" font-size=\"14.00\">grad 0.25</text>\n</g>\n<!-- 140089198203696exp -->\n<g id=\"node20\" class=\"node\">\n<title>140089198203696exp</title>\n<ellipse fill=\"none\" stroke=\"black\" cx=\"1434\" cy=\"-73.5\" rx=\"27\" ry=\"18\"/>\n<text text-anchor=\"middle\" x=\"1434\" y=\"-69.8\" font-family=\"Times,serif\" font-size=\"14.00\">exp</text>\n</g>\n<!-- 140089198202496&#45;&gt;140089198203696exp -->\n<g id=\"edge11\" class=\"edge\">\n<title>140089198202496&#45;&gt;140089198203696exp</title>\n<path fill=\"none\" stroke=\"black\" d=\"M1371.09,-73.5C1379.96,-73.5 1388.62,-73.5 1396.51,-73.5\"/>\n<polygon fill=\"black\" stroke=\"black\" points=\"1396.75,-77 1406.75,-73.5 1396.75,-70 1396.75,-77\"/>\n</g>\n<!-- 140089198202496*&#45;&gt;140089198202496 -->\n<g id=\"edge4\" class=\"edge\">\n<title>140089198202496*&#45;&gt;140089198202496</title>\n<path fill=\"none\" stroke=\"black\" d=\"M1167.26,-73.5C1174.81,-73.5 1183.51,-73.5 1192.7,-73.5\"/>\n<polygon fill=\"black\" stroke=\"black\" points=\"1192.83,-77 1202.83,-73.5 1192.83,-70 1192.83,-77\"/>\n</g>\n<!-- 140089198204032 -->\n<g id=\"node12\" class=\"node\">\n<title>140089198204032</title>\n<polygon fill=\"none\" stroke=\"black\" points=\"277.5,-84.5 277.5,-120.5 445.5,-120.5 445.5,-84.5 277.5,-84.5\"/>\n<text text-anchor=\"middle\" x=\"304\" y=\"-98.8\" font-family=\"Times,serif\" font-size=\"14.00\">x2*w2</text>\n<polyline fill=\"none\" stroke=\"black\" points=\"330.5,-84.5 330.5,-120.5 \"/>\n<text text-anchor=\"middle\" x=\"357\" y=\"-98.8\" font-family=\"Times,serif\" font-size=\"14.00\">data 0.</text>\n<polyline fill=\"none\" stroke=\"black\" points=\"383.5,-84.5 383.5,-120.5 \"/>\n<text text-anchor=\"middle\" x=\"414.5\" y=\"-98.8\" font-family=\"Times,serif\" font-size=\"14.00\">grad 0.5</text>\n</g>\n<!-- 140089198204032&#45;&gt;140089198201872+ -->\n<g id=\"edge19\" class=\"edge\">\n<title>140089198204032&#45;&gt;140089198201872+</title>\n<path fill=\"none\" stroke=\"black\" d=\"M445.73,-117.74C455.97,-119.61 465.96,-121.44 474.9,-123.07\"/>\n<polygon fill=\"black\" stroke=\"black\" points=\"474.39,-126.54 484.86,-124.9 475.65,-119.65 474.39,-126.54\"/>\n</g>\n<!-- 140089198204032* -->\n<g id=\"node13\" class=\"node\">\n<title>140089198204032*</title>\n<ellipse fill=\"none\" stroke=\"black\" cx=\"212\" cy=\"-102.5\" rx=\"27\" ry=\"18\"/>\n<text text-anchor=\"middle\" x=\"212\" y=\"-98.8\" font-family=\"Times,serif\" font-size=\"14.00\">*</text>\n</g>\n<!-- 140089198204032*&#45;&gt;140089198204032 -->\n<g id=\"edge5\" class=\"edge\">\n<title>140089198204032*&#45;&gt;140089198204032</title>\n<path fill=\"none\" stroke=\"black\" d=\"M239.03,-102.5C247.37,-102.5 257.13,-102.5 267.43,-102.5\"/>\n<polygon fill=\"black\" stroke=\"black\" points=\"267.44,-106 277.44,-102.5 267.44,-99 267.44,-106\"/>\n</g>\n<!-- 140089198213296 -->\n<g id=\"node14\" class=\"node\">\n<title>140089198213296</title>\n<polygon fill=\"none\" stroke=\"black\" points=\"1.5,-139.5 1.5,-175.5 147.5,-175.5 147.5,-139.5 1.5,-139.5\"/>\n<text text-anchor=\"middle\" x=\"18\" y=\"-153.8\" font-family=\"Times,serif\" font-size=\"14.00\">w1</text>\n<polyline fill=\"none\" stroke=\"black\" points=\"34.5,-139.5 34.5,-175.5 \"/>\n<text text-anchor=\"middle\" x=\"63.5\" y=\"-153.8\" font-family=\"Times,serif\" font-size=\"14.00\">data &#45;3.</text>\n<polyline fill=\"none\" stroke=\"black\" points=\"92.5,-139.5 92.5,-175.5 \"/>\n<text text-anchor=\"middle\" x=\"120\" y=\"-153.8\" font-family=\"Times,serif\" font-size=\"14.00\">grad 1.</text>\n</g>\n<!-- 140089198213296&#45;&gt;140089198200384* -->\n<g id=\"edge18\" class=\"edge\">\n<title>140089198213296&#45;&gt;140089198200384*</title>\n<path fill=\"none\" stroke=\"black\" d=\"M147.61,-157.5C156.95,-157.5 166.17,-157.5 174.57,-157.5\"/>\n<polygon fill=\"black\" stroke=\"black\" points=\"174.71,-161 184.71,-157.5 174.71,-154 174.71,-161\"/>\n</g>\n<!-- 140089198198992 -->\n<g id=\"node15\" class=\"node\">\n<title>140089198198992</title>\n<polygon fill=\"none\" stroke=\"black\" points=\"2,-84.5 2,-120.5 147,-120.5 147,-84.5 2,-84.5\"/>\n<text text-anchor=\"middle\" x=\"17\" y=\"-98.8\" font-family=\"Times,serif\" font-size=\"14.00\">x2</text>\n<polyline fill=\"none\" stroke=\"black\" points=\"32,-84.5 32,-120.5 \"/>\n<text text-anchor=\"middle\" x=\"58.5\" y=\"-98.8\" font-family=\"Times,serif\" font-size=\"14.00\">data 0.</text>\n<polyline fill=\"none\" stroke=\"black\" points=\"85,-84.5 85,-120.5 \"/>\n<text text-anchor=\"middle\" x=\"116\" y=\"-98.8\" font-family=\"Times,serif\" font-size=\"14.00\">grad 0.5</text>\n</g>\n<!-- 140089198198992&#45;&gt;140089198204032* -->\n<g id=\"edge24\" class=\"edge\">\n<title>140089198198992&#45;&gt;140089198204032*</title>\n<path fill=\"none\" stroke=\"black\" d=\"M147.22,-102.5C156.68,-102.5 166.04,-102.5 174.55,-102.5\"/>\n<polygon fill=\"black\" stroke=\"black\" points=\"174.83,-106 184.83,-102.5 174.83,-99 174.83,-106\"/>\n</g>\n<!-- 140089198201584 -->\n<g id=\"node16\" class=\"node\">\n<title>140089198201584</title>\n<polygon fill=\"none\" stroke=\"black\" points=\"2248,-80.5 2248,-116.5 2430,-116.5 2430,-80.5 2248,-80.5\"/>\n<text text-anchor=\"middle\" x=\"2258\" y=\"-94.8\" font-family=\"Times,serif\" font-size=\"14.00\"> </text>\n<polyline fill=\"none\" stroke=\"black\" points=\"2268,-80.5 2268,-116.5 \"/>\n<text text-anchor=\"middle\" x=\"2308\" y=\"-94.8\" font-family=\"Times,serif\" font-size=\"14.00\">data 0.1464</text>\n<polyline fill=\"none\" stroke=\"black\" points=\"2348,-80.5 2348,-116.5 \"/>\n<text text-anchor=\"middle\" x=\"2389\" y=\"-94.8\" font-family=\"Times,serif\" font-size=\"14.00\">grad 4.8284</text>\n</g>\n<!-- 140089198205808* -->\n<g id=\"node24\" class=\"node\">\n<title>140089198205808*</title>\n<ellipse fill=\"none\" stroke=\"black\" cx=\"2493\" cy=\"-72.5\" rx=\"27\" ry=\"18\"/>\n<text text-anchor=\"middle\" x=\"2493\" y=\"-68.8\" font-family=\"Times,serif\" font-size=\"14.00\">*</text>\n</g>\n<!-- 140089198201584&#45;&gt;140089198205808* -->\n<g id=\"edge28\" class=\"edge\">\n<title>140089198201584&#45;&gt;140089198205808*</title>\n<path fill=\"none\" stroke=\"black\" d=\"M2430.18,-83.08C2439.42,-81.49 2448.38,-79.96 2456.47,-78.58\"/>\n<polygon fill=\"black\" stroke=\"black\" points=\"2457.29,-81.99 2466.56,-76.85 2456.11,-75.09 2457.29,-81.99\"/>\n</g>\n<!-- 140089198201584**&#45;1 -->\n<g id=\"node17\" class=\"node\">\n<title>140089198201584**&#45;1</title>\n<ellipse fill=\"none\" stroke=\"black\" cx=\"2121\" cy=\"-100.5\" rx=\"27\" ry=\"18\"/>\n<text text-anchor=\"middle\" x=\"2121\" y=\"-96.8\" font-family=\"Times,serif\" font-size=\"14.00\">**&#45;1</text>\n</g>\n<!-- 140089198201584**&#45;1&#45;&gt;140089198201584 -->\n<g id=\"edge6\" class=\"edge\">\n<title>140089198201584**&#45;1&#45;&gt;140089198201584</title>\n<path fill=\"none\" stroke=\"black\" d=\"M2148.05,-100.26C2170.53,-100.05 2204.48,-99.74 2237.5,-99.43\"/>\n<polygon fill=\"black\" stroke=\"black\" points=\"2237.74,-102.93 2247.7,-99.34 2237.67,-95.93 2237.74,-102.93\"/>\n</g>\n<!-- 140089198200096 -->\n<g id=\"node18\" class=\"node\">\n<title>140089198200096</title>\n<polygon fill=\"none\" stroke=\"black\" points=\"918.5,-28.5 918.5,-64.5 1070.5,-64.5 1070.5,-28.5 918.5,-28.5\"/>\n<text text-anchor=\"middle\" x=\"928.5\" y=\"-42.8\" font-family=\"Times,serif\" font-size=\"14.00\"> </text>\n<polyline fill=\"none\" stroke=\"black\" points=\"938.5,-28.5 938.5,-64.5 \"/>\n<text text-anchor=\"middle\" x=\"963.5\" y=\"-42.8\" font-family=\"Times,serif\" font-size=\"14.00\">data 2</text>\n<polyline fill=\"none\" stroke=\"black\" points=\"988.5,-28.5 988.5,-64.5 \"/>\n<text text-anchor=\"middle\" x=\"1029.5\" y=\"-42.8\" font-family=\"Times,serif\" font-size=\"14.00\">grad 0.2203</text>\n</g>\n<!-- 140089198200096&#45;&gt;140089198202496* -->\n<g id=\"edge21\" class=\"edge\">\n<title>140089198200096&#45;&gt;140089198202496*</title>\n<path fill=\"none\" stroke=\"black\" d=\"M1070.61,-60.63C1082.19,-62.81 1093.65,-64.97 1103.78,-66.87\"/>\n<polygon fill=\"black\" stroke=\"black\" points=\"1103.33,-70.35 1113.81,-68.76 1104.63,-63.47 1103.33,-70.35\"/>\n</g>\n<!-- 140089198203696 -->\n<g id=\"node19\" class=\"node\">\n<title>140089198203696</title>\n<polygon fill=\"none\" stroke=\"black\" points=\"1497,-55.5 1497,-91.5 1682,-91.5 1682,-55.5 1497,-55.5\"/>\n<text text-anchor=\"middle\" x=\"1508.5\" y=\"-69.8\" font-family=\"Times,serif\" font-size=\"14.00\">e</text>\n<polyline fill=\"none\" stroke=\"black\" points=\"1520,-55.5 1520,-91.5 \"/>\n<text text-anchor=\"middle\" x=\"1560\" y=\"-69.8\" font-family=\"Times,serif\" font-size=\"14.00\">data 5.8284</text>\n<polyline fill=\"none\" stroke=\"black\" points=\"1600,-55.5 1600,-91.5 \"/>\n<text text-anchor=\"middle\" x=\"1641\" y=\"-69.8\" font-family=\"Times,serif\" font-size=\"14.00\">grad 0.0429</text>\n</g>\n<!-- 140089198203696&#45;&gt;140089198203216+ -->\n<g id=\"edge20\" class=\"edge\">\n<title>140089198203696&#45;&gt;140089198203216+</title>\n<path fill=\"none\" stroke=\"black\" d=\"M1682.01,-56.81C1691.49,-55.08 1700.66,-53.41 1708.9,-51.9\"/>\n<polygon fill=\"black\" stroke=\"black\" points=\"1709.6,-55.33 1718.81,-50.09 1708.35,-48.45 1709.6,-55.33\"/>\n</g>\n<!-- 140089198203696&#45;&gt;140089198199232+ -->\n<g id=\"edge26\" class=\"edge\">\n<title>140089198203696&#45;&gt;140089198199232+</title>\n<path fill=\"none\" stroke=\"black\" d=\"M1682.01,-89.6C1691.49,-91.26 1700.66,-92.88 1708.9,-94.33\"/>\n<polygon fill=\"black\" stroke=\"black\" points=\"1708.36,-97.78 1718.81,-96.07 1709.57,-90.89 1708.36,-97.78\"/>\n</g>\n<!-- 140089198203696exp&#45;&gt;140089198203696 -->\n<g id=\"edge7\" class=\"edge\">\n<title>140089198203696exp&#45;&gt;140089198203696</title>\n<path fill=\"none\" stroke=\"black\" d=\"M1461.04,-73.5C1468.58,-73.5 1477.3,-73.5 1486.57,-73.5\"/>\n<polygon fill=\"black\" stroke=\"black\" points=\"1486.81,-77 1496.81,-73.5 1486.81,-70 1486.81,-77\"/>\n</g>\n<!-- 140089198203216 -->\n<g id=\"node21\" class=\"node\">\n<title>140089198203216</title>\n<polygon fill=\"none\" stroke=\"black\" points=\"2030,-27.5 2030,-63.5 2212,-63.5 2212,-27.5 2030,-27.5\"/>\n<text text-anchor=\"middle\" x=\"2040\" y=\"-41.8\" font-family=\"Times,serif\" font-size=\"14.00\"> </text>\n<polyline fill=\"none\" stroke=\"black\" points=\"2050,-27.5 2050,-63.5 \"/>\n<text text-anchor=\"middle\" x=\"2090\" y=\"-41.8\" font-family=\"Times,serif\" font-size=\"14.00\">data 4.8284</text>\n<polyline fill=\"none\" stroke=\"black\" points=\"2130,-27.5 2130,-63.5 \"/>\n<text text-anchor=\"middle\" x=\"2171\" y=\"-41.8\" font-family=\"Times,serif\" font-size=\"14.00\">grad 0.1464</text>\n</g>\n<!-- 140089198203216&#45;&gt;140089198205808* -->\n<g id=\"edge17\" class=\"edge\">\n<title>140089198203216&#45;&gt;140089198205808*</title>\n<path fill=\"none\" stroke=\"black\" d=\"M2212.04,-52.07C2290.41,-57.79 2399.98,-65.79 2455.96,-69.87\"/>\n<polygon fill=\"black\" stroke=\"black\" points=\"2455.87,-73.37 2466.1,-70.61 2456.38,-66.39 2455.87,-73.37\"/>\n</g>\n<!-- 140089198203216+&#45;&gt;140089198203216 -->\n<g id=\"edge8\" class=\"edge\">\n<title>140089198203216+&#45;&gt;140089198203216</title>\n<path fill=\"none\" stroke=\"black\" d=\"M1772,-45.5C1822.46,-45.5 1936.06,-45.5 2019.81,-45.5\"/>\n<polygon fill=\"black\" stroke=\"black\" points=\"2019.87,-49 2029.87,-45.5 2019.87,-42 2019.87,-49\"/>\n</g>\n<!-- 140089198205808 -->\n<g id=\"node23\" class=\"node\">\n<title>140089198205808</title>\n<polygon fill=\"none\" stroke=\"black\" points=\"2556,-54.5 2556,-90.5 2714,-90.5 2714,-54.5 2556,-54.5\"/>\n<text text-anchor=\"middle\" x=\"2567.5\" y=\"-68.8\" font-family=\"Times,serif\" font-size=\"14.00\">o</text>\n<polyline fill=\"none\" stroke=\"black\" points=\"2579,-54.5 2579,-90.5 \"/>\n<text text-anchor=\"middle\" x=\"2619\" y=\"-68.8\" font-family=\"Times,serif\" font-size=\"14.00\">data 0.7071</text>\n<polyline fill=\"none\" stroke=\"black\" points=\"2659,-54.5 2659,-90.5 \"/>\n<text text-anchor=\"middle\" x=\"2686.5\" y=\"-68.8\" font-family=\"Times,serif\" font-size=\"14.00\">grad 1.</text>\n</g>\n<!-- 140089198205808*&#45;&gt;140089198205808 -->\n<g id=\"edge9\" class=\"edge\">\n<title>140089198205808*&#45;&gt;140089198205808</title>\n<path fill=\"none\" stroke=\"black\" d=\"M2520,-72.5C2527.61,-72.5 2536.39,-72.5 2545.62,-72.5\"/>\n<polygon fill=\"black\" stroke=\"black\" points=\"2545.78,-76 2555.78,-72.5 2545.78,-69 2545.78,-76\"/>\n</g>\n<!-- 140089198211472 -->\n<g id=\"node25\" class=\"node\">\n<title>140089198211472</title>\n<polygon fill=\"none\" stroke=\"black\" points=\"4,-29.5 4,-65.5 145,-65.5 145,-29.5 4,-29.5\"/>\n<text text-anchor=\"middle\" x=\"20.5\" y=\"-43.8\" font-family=\"Times,serif\" font-size=\"14.00\">w2</text>\n<polyline fill=\"none\" stroke=\"black\" points=\"37,-29.5 37,-65.5 \"/>\n<text text-anchor=\"middle\" x=\"63.5\" y=\"-43.8\" font-family=\"Times,serif\" font-size=\"14.00\">data 1.</text>\n<polyline fill=\"none\" stroke=\"black\" points=\"90,-29.5 90,-65.5 \"/>\n<text text-anchor=\"middle\" x=\"117.5\" y=\"-43.8\" font-family=\"Times,serif\" font-size=\"14.00\">grad 0.</text>\n</g>\n<!-- 140089198211472&#45;&gt;140089198204032* -->\n<g id=\"edge23\" class=\"edge\">\n<title>140089198211472&#45;&gt;140089198204032*</title>\n<path fill=\"none\" stroke=\"black\" d=\"M126.29,-65.62C133.94,-68.5 141.7,-71.52 149,-74.5 159.36,-78.73 170.54,-83.67 180.51,-88.21\"/>\n<polygon fill=\"black\" stroke=\"black\" points=\"179.1,-91.41 189.65,-92.4 182.02,-85.04 179.1,-91.41\"/>\n</g>\n<!-- 140089198199232 -->\n<g id=\"node26\" class=\"node\">\n<title>140089198199232</title>\n<polygon fill=\"none\" stroke=\"black\" points=\"1808,-82.5 1808,-118.5 1994,-118.5 1994,-82.5 1808,-82.5\"/>\n<text text-anchor=\"middle\" x=\"1818\" y=\"-96.8\" font-family=\"Times,serif\" font-size=\"14.00\"> </text>\n<polyline fill=\"none\" stroke=\"black\" points=\"1828,-82.5 1828,-118.5 \"/>\n<text text-anchor=\"middle\" x=\"1868\" y=\"-96.8\" font-family=\"Times,serif\" font-size=\"14.00\">data 6.8284</text>\n<polyline fill=\"none\" stroke=\"black\" points=\"1908,-82.5 1908,-118.5 \"/>\n<text text-anchor=\"middle\" x=\"1951\" y=\"-96.8\" font-family=\"Times,serif\" font-size=\"14.00\">grad &#45;0.1036</text>\n</g>\n<!-- 140089198199232&#45;&gt;140089198201584**&#45;1 -->\n<g id=\"edge13\" class=\"edge\">\n<title>140089198199232&#45;&gt;140089198201584**&#45;1</title>\n<path fill=\"none\" stroke=\"black\" d=\"M1994.14,-100.5C2025.72,-100.5 2059.24,-100.5 2083.74,-100.5\"/>\n<polygon fill=\"black\" stroke=\"black\" points=\"2083.98,-104 2093.98,-100.5 2083.98,-97 2083.98,-104\"/>\n</g>\n<!-- 140089198199232+&#45;&gt;140089198199232 -->\n<g id=\"edge10\" class=\"edge\">\n<title>140089198199232+&#45;&gt;140089198199232</title>\n<path fill=\"none\" stroke=\"black\" d=\"M1772.12,-100.5C1779.62,-100.5 1788.29,-100.5 1797.5,-100.5\"/>\n<polygon fill=\"black\" stroke=\"black\" points=\"1797.69,-104 1807.69,-100.5 1797.69,-97 1797.69,-104\"/>\n</g>\n<!-- 140089198203360 -->\n<g id=\"node28\" class=\"node\">\n<title>140089198203360</title>\n<polygon fill=\"none\" stroke=\"black\" points=\"597.5,-56.5 597.5,-92.5 762.5,-92.5 762.5,-56.5 597.5,-56.5\"/>\n<text text-anchor=\"middle\" x=\"609\" y=\"-70.8\" font-family=\"Times,serif\" font-size=\"14.00\">b</text>\n<polyline fill=\"none\" stroke=\"black\" points=\"620.5,-56.5 620.5,-92.5 \"/>\n<text text-anchor=\"middle\" x=\"660.5\" y=\"-70.8\" font-family=\"Times,serif\" font-size=\"14.00\">data 6.8814</text>\n<polyline fill=\"none\" stroke=\"black\" points=\"700.5,-56.5 700.5,-92.5 \"/>\n<text text-anchor=\"middle\" x=\"731.5\" y=\"-70.8\" font-family=\"Times,serif\" font-size=\"14.00\">grad 0.5</text>\n</g>\n<!-- 140089198203360&#45;&gt;140089198201968+ -->\n<g id=\"edge25\" class=\"edge\">\n<title>140089198203360&#45;&gt;140089198201968+</title>\n<path fill=\"none\" stroke=\"black\" d=\"M762.54,-87.68C780.13,-90.53 797.84,-93.39 812.53,-95.77\"/>\n<polygon fill=\"black\" stroke=\"black\" points=\"812.23,-99.26 822.66,-97.4 813.35,-92.35 812.23,-99.26\"/>\n</g>\n</g>\n</svg>\n",
            "text/plain": [
              "<graphviz.graphs.Digraph at 0x7f690ee56c80>"
            ]
          },
          "metadata": {},
          "execution_count": 5
        }
      ]
    },
    {
      "cell_type": "code",
      "source": [
        "import torch\n",
        "\n",
        "# create tensors and enable gradient tracking\n",
        "\n",
        "# inputs x1,x2\n",
        "x1 = torch.Tensor([2.0]); x1.requires_grad = True \n",
        "x2 = torch.Tensor([-.0]); x2.requires_grad = True\n",
        "\n",
        "# weights w1, w2\n",
        "w1 = torch.Tensor([-3.0]); w1.requires_grad = True  \n",
        "w2 = torch.Tensor([1.0]); w2.requires_grad = True  \n",
        "\n",
        "# bias of the neurons\n",
        "b = torch.Tensor([6.8813735870195432]); b.requires_grad = True\n",
        "\n",
        "# perform the computation: n = x1*w1 + x2*w2 + b\n",
        "n = x1*w1 + x2*w2 + b\n",
        "\n",
        "# apply the hyperbolic tangent function to n\n",
        "o = torch.tanh(n)\n",
        "\n",
        "print(o.item())\n",
        "\n",
        "# perform backward propagation to compute gradients\n",
        "o.backward()\n",
        "\n",
        "print(\"------------\")\n",
        "print(\"x1\", x1.grad.item())\n",
        "print(\"w1\", w1.grad.item())\n",
        "print(\"x2\", x2.grad.item())\n",
        "print(\"w2\", w2.grad.item())"
      ],
      "metadata": {
        "colab": {
          "base_uri": "https://localhost:8080/"
        },
        "id": "REFIqSGtSqGk",
        "outputId": "ae53221f-1c68-47be-e2f6-ff846ca29e48"
      },
      "execution_count": 6,
      "outputs": [
        {
          "output_type": "stream",
          "name": "stdout",
          "text": [
            "0.7071067094802856\n",
            "------------\n",
            "x1 -1.5000003576278687\n",
            "w1 1.000000238418579\n",
            "x2 0.5000001192092896\n",
            "w2 -0.0\n"
          ]
        }
      ]
    },
    {
      "cell_type": "code",
      "source": [
        "import random\n",
        "\n",
        "class Neuron:\n",
        "\n",
        "  def __init__(self, nin):\n",
        "    # Initialize the neuron with random weights and bias between -1 and 1\n",
        "    self.w = [Value(random.uniform(-1, 1)) for _ in range(nin)]\n",
        "    self.b = Value(random.uniform(-1,1))\n",
        "  \n",
        "  def __call__(self, x):\n",
        "    # Calculate the weighted sum of inputs multiplied by weights and add the bias\n",
        "    act = sum((wi*xi for wi, xi in zip(self.w, x)), self.b)\n",
        "    # Apply the hyperbolic tangent function to the activation\n",
        "    out = act.tanh()\n",
        "    # Return the output of the neuron\n",
        "    return out\n",
        "  \n",
        "  def parameters(self):\n",
        "    # Return the weights and bias of the neuron as parameters\n",
        "    return self.w + [self.b]\n",
        "  \n",
        "class Layer:\n",
        "\n",
        "  def __init__(self, nin, nout):\n",
        "    # Create a layer with a specified number of input and output neurons\n",
        "    self.neurons = [Neuron(nin) for _ in range(nout)]\n",
        "  \n",
        "  def __call__(self, x):\n",
        "    # Compute the output of each neuron in the layer given an input\n",
        "    outs = [n(x) for n in self.neurons]\n",
        "    # If there is only one output neuron, return it directly; otherwise, return a list of outputs\n",
        "    return outs[0] if len(outs) == 1 else outs\n",
        "  \n",
        "  def parameters(self):\n",
        "    # Return the parameters of all neurons in the layer\n",
        "    return [p for neuron in self.neurons for p in neuron.parameters()]\n",
        "  \n",
        "class MLP:\n",
        "\n",
        "  def __init__(self, nin, nouts):\n",
        "    # Create a multi-layer perceptron (MLP) with the specified number of input and output neurons for each layer\n",
        "    sz = [nin] + nouts\n",
        "    self.layers = [Layer(sz[i], sz[i+1]) for i in range(len(nouts))]\n",
        "\n",
        "  def __call__(self, x):\n",
        "    # Forward propagate the input through all layers of the MLP\n",
        "    for layer in self.layers:\n",
        "      x = layer(x)\n",
        "    # Return the final output of the MLP\n",
        "    return x\n",
        "\n",
        "  def parameters(self):\n",
        "    # Return the parameters of all layers in the MLP\n",
        "    return [p for layer in self.layers for p in layer.parameters()]"
      ],
      "metadata": {
        "id": "G8HuWjA8jmah"
      },
      "execution_count": 7,
      "outputs": []
    },
    {
      "cell_type": "code",
      "source": [
        "# Set the input values\n",
        "x = [2.0, 3.0, -1.0]\n",
        "\n",
        "# Create an MLP object with 3 input neurons, 3 hidden layers (each with 4 neurons), and 1 output neuron\n",
        "n = MLP(3, [4, 4, 1])\n",
        "\n",
        "# Call the MLP object with the input values\n",
        "# This triggers the __call__ method of the MLP class\n",
        "n(x)"
      ],
      "metadata": {
        "colab": {
          "base_uri": "https://localhost:8080/"
        },
        "id": "GNkdRcm6jpOq",
        "outputId": "16cb4e92-dec9-4a61-f0e2-79bbdabcfdf4"
      },
      "execution_count": 8,
      "outputs": [
        {
          "output_type": "execute_result",
          "data": {
            "text/plain": [
              "Value(data=0.298797476695264)"
            ]
          },
          "metadata": {},
          "execution_count": 8
        }
      ]
    },
    {
      "cell_type": "code",
      "source": [
        "# Set the input values for the training examples\n",
        "xs = [\n",
        "    [2.0, 3.0, -1.0],\n",
        "    [3.0, -1.0, 0.5],\n",
        "    [0.5, 1.0, 1.0],\n",
        "    [1.0, 1.0, -1.0],\n",
        "]\n",
        "\n",
        "# Set the desired target values for the training examples\n",
        "ys = [1.0, -1.0, -1.0, 1.0]\n",
        "\n",
        "# Training data:\n",
        "# xs[0] corresponds to ys[0]\n",
        "# xs[1] corresponds to ys[1]\n",
        "# xs[2] corresponds to ys[2]\n",
        "# xs[3] corresponds to ys[3]"
      ],
      "metadata": {
        "id": "IIlO_dCAlskf"
      },
      "execution_count": 9,
      "outputs": []
    },
    {
      "cell_type": "code",
      "source": [
        "for k in range(20):\n",
        "  \n",
        "    # Forward pass\n",
        "    ypred = [n(x) for x in xs]\n",
        "    loss = sum((yout - ygt) ** 2 for ygt, yout in zip(ys, ypred))\n",
        "\n",
        "    # Backward pass\n",
        "    for p in n.parameters():\n",
        "        p.grad = 0.0\n",
        "    \n",
        "    # Compute gradients using the backward method\n",
        "    loss.backward()\n",
        "\n",
        "    # Update weights\n",
        "    for p in n.parameters():\n",
        "        p.data += -0.5 * p.grad\n",
        "\n",
        "    print(k, loss.data)"
      ],
      "metadata": {
        "colab": {
          "base_uri": "https://localhost:8080/"
        },
        "id": "GTTbuq2MmIKt",
        "outputId": "238357b2-3e20-4d09-d5c6-5607aedc64b8"
      },
      "execution_count": 10,
      "outputs": [
        {
          "output_type": "stream",
          "name": "stdout",
          "text": [
            "0 2.5317445762108775\n",
            "1 0.0002227586472107568\n",
            "2 0.000217708624873602\n",
            "3 0.00021293375036344909\n",
            "4 0.0002084114187754772\n",
            "5 0.00020412146703524298\n",
            "6 0.00020004585028091513\n",
            "7 0.00019616836866326692\n",
            "8 0.00019247443559441808\n",
            "9 0.000188950880260253\n",
            "10 0.00018558577860497495\n",
            "11 0.00018236830809218002\n",
            "12 0.0001792886224141088\n",
            "13 0.00017633774301165542\n",
            "14 0.00017350746482092003\n",
            "15 0.00017079027410770025\n",
            "16 0.00016817927661215518\n",
            "17 0.0001656681345194337\n",
            "18 0.0001632510110119823\n",
            "19 0.00016092252135645047\n"
          ]
        }
      ]
    },
    {
      "cell_type": "code",
      "source": [
        "# ypred = [n(x) for x in xs]\n",
        "ypred"
      ],
      "metadata": {
        "colab": {
          "base_uri": "https://localhost:8080/"
        },
        "id": "e5VyzOp_rJPi",
        "outputId": "5e565973-3079-497f-a2d7-2d8817fbda13"
      },
      "execution_count": 11,
      "outputs": [
        {
          "output_type": "execute_result",
          "data": {
            "text/plain": [
              "[Value(data=0.996024168052283),\n",
              " Value(data=-0.9888280801010682),\n",
              " Value(data=-0.9984437470915474),\n",
              " Value(data=0.9957713401251996)]"
            ]
          },
          "metadata": {},
          "execution_count": 11
        }
      ]
    }
  ]
}